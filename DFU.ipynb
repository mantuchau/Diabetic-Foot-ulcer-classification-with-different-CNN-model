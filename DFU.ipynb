{
  "cells": [
    {
      "cell_type": "code",
      "execution_count": null,
      "metadata": {
        "id": "ohjmUaQNSKp8"
      },
      "outputs": [],
      "source": [
        "import tensorflow as tf\n",
        "import matplotlib.pyplot as plt\n",
        "import numpy as np\n",
        "import pandas as pd\n",
        "from PIL import Image\n",
        "from numpy import asarray\n",
        "from numpy import genfromtxt\n",
        "import pandas as pd\n",
        "import matplotlib.pyplot as plt\n",
        "import numpy as np\n",
        "from tensorflow.keras.layers import Dense\n",
        "from keras.models import Model\n",
        "from tensorflow import keras\n",
        "from tensorflow.keras import layers\n",
        "import tensorflow.keras as keras\n",
        "from tensorflow.keras.models import Sequential\n",
        "from tensorflow.keras.layers import Dense, Dropout, Flatten\n",
        "from tensorflow.keras.layers import Conv2D, MaxPooling2D,MaxPool2D\n",
        "from keras.models import load_model\n",
        "from keras.models import Model\n",
        "import os\n",
        "from tensorflow.keras import models\n",
        "from keras.models import load_model\n",
        "from keras.models import Model\n",
        "import os\n",
        "from tensorflow.keras import models\n",
        "import cv2\n",
        "import PIL\n",
        "from keras.applications.vgg16 import VGG16\n",
        "from tensorflow.keras.layers import Input, Lambda, Dense,Flatten\n",
        "from tensorflow.keras.models import Model\n",
        "from keras.applications.vgg16 import VGG16\n",
        "from tensorflow.keras.preprocessing import image\n",
        "from tensorflow.keras.preprocessing.image import ImageDataGenerator,load_img\n",
        "from tensorflow.keras.models import Sequential\n",
        "import numpy as np\n",
        "from glob import glob\n"
      ]
    },
    {
      "cell_type": "code",
      "execution_count": null,
      "metadata": {
        "colab": {
          "base_uri": "https://localhost:8080/"
        },
        "id": "i3q2CTmvlZ3c",
        "outputId": "dd554601-9984-45a9-c832-1931ed6947fd"
      },
      "outputs": [
        {
          "output_type": "stream",
          "name": "stdout",
          "text": [
            "Drive already mounted at /content/drive; to attempt to forcibly remount, call drive.mount(\"/content/drive\", force_remount=True).\n"
          ]
        }
      ],
      "source": [
        "from google.colab import drive\n",
        "drive.mount('/content/drive')"
      ]
    },
    {
      "cell_type": "code",
      "execution_count": null,
      "metadata": {
        "id": "rOrhe7OSmdib"
      },
      "outputs": [],
      "source": [
        "IMAGE_SIZE=224\n",
        "BATCH_SIZE=5\n",
        "CHANNELS=3"
      ]
    },
    {
      "cell_type": "code",
      "execution_count": null,
      "metadata": {
        "colab": {
          "base_uri": "https://localhost:8080/"
        },
        "id": "Pyz3JlQIxwlE",
        "outputId": "b2fa1f98-0299-46b4-9f4a-8222dcf0cdf3"
      },
      "outputs": [
        {
          "output_type": "stream",
          "name": "stdout",
          "text": [
            "Found 334 files belonging to 2 classes.\n"
          ]
        }
      ],
      "source": [
        "dataset=tf.keras.preprocessing.image_dataset_from_directory(\n",
        "    \"/content/drive/MyDrive/Data_new\",shuffle=True,image_size=(IMAGE_SIZE,IMAGE_SIZE),\n",
        "    batch_size = BATCH_SIZE\n",
        ")"
      ]
    },
    {
      "cell_type": "code",
      "source": [
        "print(dataset[0])"
      ],
      "metadata": {
        "id": "v0xlU7JJmnEZ"
      },
      "execution_count": null,
      "outputs": []
    },
    {
      "cell_type": "code",
      "execution_count": null,
      "metadata": {
        "colab": {
          "base_uri": "https://localhost:8080/"
        },
        "id": "Xq8jL0fpzEB7",
        "outputId": "e9746f4e-18ba-45bc-bb88-20a98b6116ea"
      },
      "outputs": [
        {
          "output_type": "execute_result",
          "data": {
            "text/plain": [
              "['Control Group', 'DM Group']"
            ]
          },
          "metadata": {},
          "execution_count": 5
        }
      ],
      "source": [
        "class_names=dataset.class_names\n",
        "class_names"
      ]
    },
    {
      "cell_type": "code",
      "execution_count": null,
      "metadata": {
        "colab": {
          "base_uri": "https://localhost:8080/"
        },
        "id": "L_pjTKfGzrvo",
        "outputId": "46d7e995-a5b7-4edc-f933-7dac6b685e89"
      },
      "outputs": [
        {
          "output_type": "execute_result",
          "data": {
            "text/plain": [
              "67"
            ]
          },
          "metadata": {},
          "execution_count": 6
        }
      ],
      "source": [
        "len(dataset)"
      ]
    },
    {
      "cell_type": "code",
      "execution_count": null,
      "metadata": {
        "colab": {
          "base_uri": "https://localhost:8080/"
        },
        "id": "8G8o9lLioVo_",
        "outputId": "8a1c9b0f-cfe3-4a7c-e2df-d973702b7e6a"
      },
      "outputs": [
        {
          "output_type": "execute_result",
          "data": {
            "text/plain": [
              "53.6"
            ]
          },
          "metadata": {},
          "execution_count": 7
        }
      ],
      "source": [
        "train_size=0.8\n",
        "len(dataset)*train_size"
      ]
    },
    {
      "cell_type": "code",
      "execution_count": null,
      "metadata": {
        "colab": {
          "base_uri": "https://localhost:8080/"
        },
        "id": "62P08iMEo1iY",
        "outputId": "615d2965-6cea-434a-cd55-24102b6b1092"
      },
      "outputs": [
        {
          "output_type": "execute_result",
          "data": {
            "text/plain": [
              "53"
            ]
          },
          "metadata": {},
          "execution_count": 8
        }
      ],
      "source": [
        "train_ds=dataset.take(53)\n",
        "len(train_ds)"
      ]
    },
    {
      "cell_type": "code",
      "execution_count": null,
      "metadata": {
        "colab": {
          "base_uri": "https://localhost:8080/"
        },
        "id": "EeWvi8UdpJ5m",
        "outputId": "978d4596-6490-4c81-f33f-4140c0a62fc0"
      },
      "outputs": [
        {
          "output_type": "execute_result",
          "data": {
            "text/plain": [
              "14"
            ]
          },
          "metadata": {},
          "execution_count": 9
        }
      ],
      "source": [
        "test_ds=dataset.skip(53)\n",
        "len(test_ds)"
      ]
    },
    {
      "cell_type": "code",
      "execution_count": null,
      "metadata": {
        "colab": {
          "base_uri": "https://localhost:8080/"
        },
        "id": "EQ1MI78Zp3WZ",
        "outputId": "702df836-2a54-44d0-9063-c6d2db63e37b"
      },
      "outputs": [
        {
          "output_type": "execute_result",
          "data": {
            "text/plain": [
              "6.7"
            ]
          },
          "metadata": {},
          "execution_count": 10
        }
      ],
      "source": [
        "val_size=0.1\n",
        "len(dataset)*val_size\n"
      ]
    },
    {
      "cell_type": "code",
      "execution_count": null,
      "metadata": {
        "colab": {
          "base_uri": "https://localhost:8080/"
        },
        "id": "scSls3bEqV7V",
        "outputId": "04588c23-df77-41e6-eeef-f6f3b0510a77"
      },
      "outputs": [
        {
          "output_type": "execute_result",
          "data": {
            "text/plain": [
              "6"
            ]
          },
          "metadata": {},
          "execution_count": 11
        }
      ],
      "source": [
        "val_ds=test_ds.take(6)\n",
        "len(val_ds)"
      ]
    },
    {
      "cell_type": "code",
      "execution_count": null,
      "metadata": {
        "colab": {
          "base_uri": "https://localhost:8080/"
        },
        "id": "YoSZU7N6qyFc",
        "outputId": "986f40df-3b96-4da9-d2b6-c58ba1b98b26"
      },
      "outputs": [
        {
          "output_type": "execute_result",
          "data": {
            "text/plain": [
              "8"
            ]
          },
          "metadata": {},
          "execution_count": 12
        }
      ],
      "source": [
        "test_ds=test_ds.skip(6)\n",
        "len(test_ds)"
      ]
    },
    {
      "cell_type": "code",
      "execution_count": null,
      "metadata": {
        "colab": {
          "base_uri": "https://localhost:8080/"
        },
        "id": "sQyJhhI70yK_",
        "outputId": "7f3dc084-83be-489d-ef6f-eb7dcf360a4c"
      },
      "outputs": [
        {
          "output_type": "stream",
          "name": "stdout",
          "text": [
            "(5, 224, 224, 3)\n",
            "[1 1 0 1 1]\n",
            "(5, 224, 224, 3)\n",
            "[0 1 1 0 1]\n"
          ]
        }
      ],
      "source": [
        "for image_batch,label_batch in dataset.take(2):\n",
        "  print(image_batch.shape)\n",
        "  print(label_batch.numpy())"
      ]
    },
    {
      "cell_type": "code",
      "execution_count": null,
      "metadata": {
        "colab": {
          "base_uri": "https://localhost:8080/"
        },
        "id": "2NBtRXSoJXwg",
        "outputId": "02cfc310-8193-4162-a6c8-fbcc7abcc305"
      },
      "outputs": [
        {
          "output_type": "stream",
          "name": "stdout",
          "text": [
            "[[[0. 0. 0.]\n",
            "  [0. 0. 0.]\n",
            "  [0. 0. 0.]\n",
            "  ...\n",
            "  [0. 0. 0.]\n",
            "  [0. 0. 0.]\n",
            "  [0. 0. 0.]]\n",
            "\n",
            " [[0. 0. 0.]\n",
            "  [0. 0. 0.]\n",
            "  [0. 0. 0.]\n",
            "  ...\n",
            "  [0. 0. 0.]\n",
            "  [0. 0. 0.]\n",
            "  [0. 0. 0.]]\n",
            "\n",
            " [[0. 0. 0.]\n",
            "  [0. 0. 0.]\n",
            "  [0. 0. 0.]\n",
            "  ...\n",
            "  [0. 0. 0.]\n",
            "  [0. 0. 0.]\n",
            "  [0. 0. 0.]]\n",
            "\n",
            " ...\n",
            "\n",
            " [[0. 0. 0.]\n",
            "  [0. 0. 0.]\n",
            "  [0. 0. 0.]\n",
            "  ...\n",
            "  [0. 0. 0.]\n",
            "  [0. 0. 0.]\n",
            "  [0. 0. 0.]]\n",
            "\n",
            " [[0. 0. 0.]\n",
            "  [0. 0. 0.]\n",
            "  [0. 0. 0.]\n",
            "  ...\n",
            "  [0. 0. 0.]\n",
            "  [0. 0. 0.]\n",
            "  [0. 0. 0.]]\n",
            "\n",
            " [[0. 0. 0.]\n",
            "  [0. 0. 0.]\n",
            "  [0. 0. 0.]\n",
            "  ...\n",
            "  [0. 0. 0.]\n",
            "  [0. 0. 0.]\n",
            "  [0. 0. 0.]]]\n"
          ]
        }
      ],
      "source": [
        "for image_batch,label_batch in dataset.take(1):\n",
        "    print(image_batch[0].numpy())"
      ]
    },
    {
      "cell_type": "code",
      "execution_count": null,
      "metadata": {
        "colab": {
          "base_uri": "https://localhost:8080/",
          "height": 269
        },
        "id": "siV4fvQ3_2xW",
        "outputId": "1937027d-ee2f-4de0-c598-77924a4a8db8"
      },
      "outputs": [
        {
          "output_type": "display_data",
          "data": {
            "text/plain": [
              "<Figure size 432x288 with 1 Axes>"
            ],
            "image/png": "[encoded data removed]"
          },
          "metadata": {
            "needs_background": "light"
          }
        }
      ],
      "source": [
        "for image_batch,label_batch in dataset.take(1):\n",
        " # print(image_batch[0].shape)\n",
        "  plt.imshow(image_batch[0].numpy().astype(\"uint8\"))"
      ]
    },
    {
      "cell_type": "code",
      "execution_count": null,
      "metadata": {
        "id": "0y68ZjR4xfot"
      },
      "outputs": [],
      "source": [
        "train_ds=train_ds.cache().shuffle(1000).prefetch(buffer_size=tf.data.AUTOTUNE)\n",
        "\n",
        "test_ds=test_ds.cache().shuffle(1000).prefetch(buffer_size=tf.data.AUTOTUNE)\n",
        "\n",
        "val_ds=val_ds.cache().shuffle(1000).prefetch(buffer_size=tf.data.AUTOTUNE)\n",
        "\n"
      ]
    },
    {
      "cell_type": "code",
      "execution_count": null,
      "metadata": {
        "id": "74urDkM96dXz"
      },
      "outputs": [],
      "source": [
        "resize_and_rescale=tf.keras.Sequential([\n",
        "    layers.experimental.preprocessing.RandomFlip(\"horizontal_and_vertical\"),\n",
        "    layers.experimental.preprocessing.RandomRotation(0.2)\n",
        "])"
      ]
    },
    {
      "cell_type": "code",
      "execution_count": null,
      "metadata": {
        "id": "FdqpLmmM9MzM"
      },
      "outputs": [],
      "source": [
        "data_augmentation=tf.keras.Sequential([\n",
        "    layers.experimental.preprocessing.Resizing(IMAGE_SIZE,IMAGE_SIZE),\n",
        "    layers.experimental.preprocessing.Rescaling(1.0/255),\n",
        "])"
      ]
    },
    {
      "cell_type": "code",
      "execution_count": null,
      "metadata": {
        "id": "MW0Da4OzG2ef"
      },
      "outputs": [],
      "source": [
        "n_classes=2\n",
        "input_shape=(BATCH_SIZE,IMAGE_SIZE,IMAGE_SIZE,CHANNELS)"
      ]
    },
    {
      "cell_type": "markdown",
      "metadata": {
        "id": "drggzRXY5OIN"
      },
      "source": [
        "#VGG-16 model"
      ]
    },
    {
      "cell_type": "code",
      "execution_count": null,
      "metadata": {
        "id": "OEE7LmaOiGFH"
      },
      "outputs": [],
      "source": [
        "model = Sequential()\n",
        "model.add(Conv2D(input_shape=(224,224,3),filters=128,kernel_size=(3,3),padding=\"same\", activation=\"relu\"))\n",
        "model.add(Conv2D(filters=64,kernel_size=(3,3),padding=\"same\", activation=\"relu\"))\n",
        "model.add(MaxPool2D(pool_size=(2,2),strides=(2,2)))\n",
        "model.add(Conv2D(filters=128, kernel_size=(2,2), padding=\"same\", activation=\"relu\"))\n",
        "model.add(Conv2D(filters=128, kernel_size=(3,3), padding=\"same\", activation=\"relu\"))\n",
        "model.add(MaxPool2D(pool_size=(2,2),strides=(2,2)))\n",
        "model.add(Conv2D(filters=256, kernel_size=(2,2), padding=\"same\", activation=\"relu\"))\n",
        "model.add(Conv2D(filters=256, kernel_size=(3,3), padding=\"same\", activation=\"relu\"))\n",
        "model.add(MaxPool2D(pool_size=(2,2),strides=(2,2)))\n",
        "model.add(Conv2D(filters=512, kernel_size=(2,2), padding=\"same\", activation=\"relu\"))\n",
        "model.add(Conv2D(filters=512, kernel_size=(3,3), padding=\"same\", activation=\"relu\"))\n",
        "model.add(MaxPool2D(pool_size=(2,2),strides=(2,2)))\n",
        "model.add(Conv2D(filters=512, kernel_size=(3,3), padding=\"same\", activation=\"relu\"))\n",
        "model.add(Conv2D(filters=512, kernel_size=(3,3), padding=\"same\", activation=\"relu\"))\n",
        "model.add(MaxPool2D(pool_size=(2,2),strides=(2,2)))\n",
        "model.add(Flatten())\n",
        "model.add(Dense(units=2048,activation=\"relu\"))\n",
        "model.add(Dense(units=4096,activation=\"relu\"))\n",
        "model.add(Dense(units=2, activation=\"softmax\"))"
      ]
    },
    {
      "cell_type": "code",
      "execution_count": null,
      "metadata": {
        "id": "av33b2FFib7N"
      },
      "outputs": [],
      "source": [
        "from tensorflow.keras.optimizers import Adam\n",
        "\n",
        "from tensorflow.keras.optimizers import Adam\n"
      ]
    },
    {
      "cell_type": "code",
      "execution_count": null,
      "metadata": {
        "colab": {
          "base_uri": "https://localhost:8080/"
        },
        "id": "K40pmnf6i3Cy",
        "outputId": "94d94484-4ccd-4d65-d0c1-0c5475971e9d"
      },
      "outputs": [
        {
          "output_type": "stream",
          "name": "stdout",
          "text": [
            "Model: \"sequential_7\"\n",
            "_________________________________________________________________\n",
            " Layer (type)                Output Shape              Param #   \n",
            "=================================================================\n",
            " conv2d_50 (Conv2D)          (None, 224, 224, 128)     3584      \n",
            "                                                                 \n",
            " conv2d_51 (Conv2D)          (None, 224, 224, 64)      73792     \n",
            "                                                                 \n",
            " max_pooling2d_25 (MaxPoolin  (None, 112, 112, 64)     0         \n",
            " g2D)                                                            \n",
            "                                                                 \n",
            " conv2d_52 (Conv2D)          (None, 112, 112, 128)     32896     \n",
            "                                                                 \n",
            " conv2d_53 (Conv2D)          (None, 112, 112, 128)     147584    \n",
            "                                                                 \n",
            " max_pooling2d_26 (MaxPoolin  (None, 56, 56, 128)      0         \n",
            " g2D)                                                            \n",
            "                                                                 \n",
            " conv2d_54 (Conv2D)          (None, 56, 56, 256)       131328    \n",
            "                                                                 \n",
            " conv2d_55 (Conv2D)          (None, 56, 56, 256)       590080    \n",
            "                                                                 \n",
            " max_pooling2d_27 (MaxPoolin  (None, 28, 28, 256)      0         \n",
            " g2D)                                                            \n",
            "                                                                 \n",
            " conv2d_56 (Conv2D)          (None, 28, 28, 512)       524800    \n",
            "                                                                 \n",
            " conv2d_57 (Conv2D)          (None, 28, 28, 512)       2359808   \n",
            "                                                                 \n",
            " max_pooling2d_28 (MaxPoolin  (None, 14, 14, 512)      0         \n",
            " g2D)                                                            \n",
            "                                                                 \n",
            " conv2d_58 (Conv2D)          (None, 14, 14, 512)       2359808   \n",
            "                                                                 \n",
            " conv2d_59 (Conv2D)          (None, 14, 14, 512)       2359808   \n",
            "                                                                 \n",
            " max_pooling2d_29 (MaxPoolin  (None, 7, 7, 512)        0         \n",
            " g2D)                                                            \n",
            "                                                                 \n",
            " flatten_5 (Flatten)         (None, 25088)             0         \n",
            "                                                                 \n",
            " dense_13 (Dense)            (None, 2048)              51382272  \n",
            "                                                                 \n",
            " dense_14 (Dense)            (None, 4096)              8392704   \n",
            "                                                                 \n",
            " dense_15 (Dense)            (None, 2)                 8194      \n",
            "                                                                 \n",
            "=================================================================\n",
            "Total params: 68,366,658\n",
            "Trainable params: 68,366,658\n",
            "Non-trainable params: 0\n",
            "_________________________________________________________________\n"
          ]
        }
      ],
      "source": [
        "model.summary()"
      ]
    },
    {
      "cell_type": "code",
      "execution_count": null,
      "metadata": {
        "id": "ekVvvDijjDJJ"
      },
      "outputs": [],
      "source": [
        "model.compile(\n",
        "    optimizer='adam',\n",
        "    loss=tf.keras.losses.SparseCategoricalCrossentropy(from_logits=False),\n",
        "    metrics=['accuracy']\n",
        "              )"
      ]
    },
    {
      "cell_type": "code",
      "execution_count": null,
      "metadata": {
        "colab": {
          "base_uri": "https://localhost:8080/"
        },
        "id": "ehbqAvasjKEw",
        "outputId": "b6ec5aef-3647-4289-cd7c-e07bea302c0a"
      },
      "outputs": [
        {
          "output_type": "stream",
          "name": "stdout",
          "text": [
            "Epoch 1/50\n",
            "53/53 [==============================] - 6s 99ms/step - loss: 5509.0698 - accuracy: 0.7019 - val_loss: 0.6349 - val_accuracy: 0.6667\n",
            "Epoch 2/50\n",
            "53/53 [==============================] - 5s 96ms/step - loss: 0.5884 - accuracy: 0.7396 - val_loss: 0.5433 - val_accuracy: 0.6667\n",
            "Epoch 3/50\n",
            "53/53 [==============================] - 5s 96ms/step - loss: 0.5081 - accuracy: 0.7358 - val_loss: 0.6310 - val_accuracy: 0.6000\n",
            "Epoch 4/50\n",
            "53/53 [==============================] - 5s 96ms/step - loss: 0.8442 - accuracy: 0.6528 - val_loss: 0.5787 - val_accuracy: 0.6667\n",
            "Epoch 5/50\n",
            "53/53 [==============================] - 5s 96ms/step - loss: 0.7191 - accuracy: 0.7019 - val_loss: 0.6611 - val_accuracy: 0.6667\n",
            "Epoch 6/50\n",
            "53/53 [==============================] - 5s 95ms/step - loss: 1.0978 - accuracy: 0.7321 - val_loss: 0.6355 - val_accuracy: 0.6667\n",
            "Epoch 7/50\n",
            "53/53 [==============================] - 5s 95ms/step - loss: 0.7057 - accuracy: 0.7132 - val_loss: 0.6389 - val_accuracy: 0.6667\n",
            "Epoch 8/50\n",
            "53/53 [==============================] - 5s 95ms/step - loss: 0.5844 - accuracy: 0.7396 - val_loss: 0.6405 - val_accuracy: 0.6667\n",
            "Epoch 9/50\n",
            "53/53 [==============================] - 5s 95ms/step - loss: 0.5755 - accuracy: 0.7396 - val_loss: 0.6576 - val_accuracy: 0.6667\n",
            "Epoch 10/50\n",
            "53/53 [==============================] - 5s 95ms/step - loss: 0.5773 - accuracy: 0.7396 - val_loss: 0.6410 - val_accuracy: 0.6667\n",
            "Epoch 11/50\n",
            "53/53 [==============================] - 5s 95ms/step - loss: 0.5829 - accuracy: 0.7396 - val_loss: 0.6373 - val_accuracy: 0.6667\n",
            "Epoch 12/50\n",
            "53/53 [==============================] - 5s 95ms/step - loss: 0.5825 - accuracy: 0.7396 - val_loss: 0.6457 - val_accuracy: 0.6667\n",
            "Epoch 13/50\n",
            "53/53 [==============================] - 5s 95ms/step - loss: 0.5768 - accuracy: 0.7396 - val_loss: 0.6579 - val_accuracy: 0.6667\n",
            "Epoch 14/50\n",
            "53/53 [==============================] - 5s 95ms/step - loss: 0.5763 - accuracy: 0.7396 - val_loss: 0.6529 - val_accuracy: 0.6667\n",
            "Epoch 15/50\n",
            "53/53 [==============================] - 5s 95ms/step - loss: 0.5770 - accuracy: 0.7396 - val_loss: 0.6466 - val_accuracy: 0.6667\n",
            "Epoch 16/50\n",
            "53/53 [==============================] - 5s 95ms/step - loss: 0.5755 - accuracy: 0.7396 - val_loss: 0.6558 - val_accuracy: 0.6667\n",
            "Epoch 17/50\n",
            "53/53 [==============================] - 5s 95ms/step - loss: 0.5763 - accuracy: 0.7396 - val_loss: 0.6491 - val_accuracy: 0.6667\n",
            "Epoch 18/50\n",
            "53/53 [==============================] - 5s 95ms/step - loss: 0.5751 - accuracy: 0.7396 - val_loss: 0.6456 - val_accuracy: 0.6667\n",
            "Epoch 19/50\n",
            "53/53 [==============================] - 5s 95ms/step - loss: 0.5785 - accuracy: 0.7396 - val_loss: 0.6480 - val_accuracy: 0.6667\n",
            "Epoch 20/50\n",
            "53/53 [==============================] - 5s 95ms/step - loss: 0.5832 - accuracy: 0.7396 - val_loss: 0.6517 - val_accuracy: 0.6667\n",
            "Epoch 21/50\n",
            "53/53 [==============================] - 5s 96ms/step - loss: 0.5754 - accuracy: 0.7396 - val_loss: 0.6485 - val_accuracy: 0.6667\n",
            "Epoch 22/50\n",
            "53/53 [==============================] - 5s 97ms/step - loss: 0.5755 - accuracy: 0.7396 - val_loss: 0.6486 - val_accuracy: 0.6667\n",
            "Epoch 23/50\n",
            "53/53 [==============================] - 5s 95ms/step - loss: 0.5764 - accuracy: 0.7396 - val_loss: 0.6467 - val_accuracy: 0.6667\n",
            "Epoch 24/50\n",
            "53/53 [==============================] - 5s 95ms/step - loss: 0.5780 - accuracy: 0.7396 - val_loss: 0.6450 - val_accuracy: 0.6667\n",
            "Epoch 25/50\n",
            "53/53 [==============================] - 5s 96ms/step - loss: 0.5755 - accuracy: 0.7396 - val_loss: 0.6486 - val_accuracy: 0.6667\n",
            "Epoch 26/50\n",
            "53/53 [==============================] - 5s 95ms/step - loss: 0.5775 - accuracy: 0.7396 - val_loss: 0.6440 - val_accuracy: 0.6667\n",
            "Epoch 27/50\n",
            "53/53 [==============================] - 5s 95ms/step - loss: 0.5750 - accuracy: 0.7396 - val_loss: 0.6527 - val_accuracy: 0.6667\n",
            "Epoch 28/50\n",
            "53/53 [==============================] - 5s 95ms/step - loss: 0.5751 - accuracy: 0.7396 - val_loss: 0.6529 - val_accuracy: 0.6667\n",
            "Epoch 29/50\n",
            "53/53 [==============================] - 5s 95ms/step - loss: 0.5753 - accuracy: 0.7396 - val_loss: 0.6438 - val_accuracy: 0.6667\n",
            "Epoch 30/50\n",
            "53/53 [==============================] - 5s 96ms/step - loss: 0.5760 - accuracy: 0.7396 - val_loss: 0.6503 - val_accuracy: 0.6667\n",
            "Epoch 31/50\n",
            "53/53 [==============================] - 5s 95ms/step - loss: 0.5768 - accuracy: 0.7396 - val_loss: 0.6520 - val_accuracy: 0.6667\n",
            "Epoch 32/50\n",
            "53/53 [==============================] - 5s 96ms/step - loss: 0.5756 - accuracy: 0.7396 - val_loss: 0.6460 - val_accuracy: 0.6667\n",
            "Epoch 33/50\n",
            "53/53 [==============================] - 5s 96ms/step - loss: 0.5757 - accuracy: 0.7396 - val_loss: 0.6444 - val_accuracy: 0.6667\n",
            "Epoch 34/50\n",
            "53/53 [==============================] - 5s 96ms/step - loss: 0.5755 - accuracy: 0.7396 - val_loss: 0.6499 - val_accuracy: 0.6667\n",
            "Epoch 35/50\n",
            "53/53 [==============================] - 5s 96ms/step - loss: 0.5771 - accuracy: 0.7396 - val_loss: 0.6505 - val_accuracy: 0.6667\n",
            "Epoch 36/50\n",
            "53/53 [==============================] - 5s 96ms/step - loss: 0.5762 - accuracy: 0.7396 - val_loss: 0.6520 - val_accuracy: 0.6667\n",
            "Epoch 37/50\n",
            "53/53 [==============================] - 5s 97ms/step - loss: 0.5749 - accuracy: 0.7396 - val_loss: 0.6503 - val_accuracy: 0.6667\n",
            "Epoch 38/50\n",
            "53/53 [==============================] - 5s 96ms/step - loss: 0.5766 - accuracy: 0.7396 - val_loss: 0.6455 - val_accuracy: 0.6667\n",
            "Epoch 39/50\n",
            "53/53 [==============================] - 5s 96ms/step - loss: 0.5750 - accuracy: 0.7396 - val_loss: 0.6506 - val_accuracy: 0.6667\n",
            "Epoch 40/50\n",
            "53/53 [==============================] - 5s 97ms/step - loss: 0.5774 - accuracy: 0.7396 - val_loss: 0.6542 - val_accuracy: 0.6667\n",
            "Epoch 41/50\n",
            "53/53 [==============================] - 5s 95ms/step - loss: 0.5752 - accuracy: 0.7396 - val_loss: 0.6538 - val_accuracy: 0.6667\n",
            "Epoch 42/50\n",
            "53/53 [==============================] - 5s 95ms/step - loss: 0.5793 - accuracy: 0.7396 - val_loss: 0.6546 - val_accuracy: 0.6667\n",
            "Epoch 43/50\n",
            "53/53 [==============================] - 5s 95ms/step - loss: 0.5749 - accuracy: 0.7396 - val_loss: 0.6487 - val_accuracy: 0.6667\n",
            "Epoch 44/50\n",
            "53/53 [==============================] - 5s 95ms/step - loss: 0.5759 - accuracy: 0.7396 - val_loss: 0.6509 - val_accuracy: 0.6667\n",
            "Epoch 45/50\n",
            "53/53 [==============================] - 5s 95ms/step - loss: 0.5745 - accuracy: 0.7396 - val_loss: 0.6451 - val_accuracy: 0.6667\n",
            "Epoch 46/50\n",
            "53/53 [==============================] - 5s 95ms/step - loss: 0.5754 - accuracy: 0.7396 - val_loss: 0.6478 - val_accuracy: 0.6667\n",
            "Epoch 47/50\n",
            "53/53 [==============================] - 5s 95ms/step - loss: 0.5744 - accuracy: 0.7396 - val_loss: 0.6521 - val_accuracy: 0.6667\n",
            "Epoch 48/50\n",
            "53/53 [==============================] - 5s 95ms/step - loss: 0.5756 - accuracy: 0.7396 - val_loss: 0.6480 - val_accuracy: 0.6667\n",
            "Epoch 49/50\n",
            "53/53 [==============================] - 5s 97ms/step - loss: 0.5761 - accuracy: 0.7396 - val_loss: 0.6451 - val_accuracy: 0.6667\n",
            "Epoch 50/50\n",
            "53/53 [==============================] - 5s 96ms/step - loss: 0.5761 - accuracy: 0.7396 - val_loss: 0.6536 - val_accuracy: 0.6667\n"
          ]
        }
      ],
      "source": [
        "history=model.fit(\n",
        "    train_ds,\n",
        "    epochs=50,\n",
        "    verbose=1,\n",
        "    validation_data=val_ds\n",
        "\n",
        ")"
      ]
    },
    {
      "cell_type": "code",
      "source": [
        "scores=model.evaluate(test_ds)"
      ],
      "metadata": {
        "id": "BeAgDdh9QRQb",
        "colab": {
          "base_uri": "https://localhost:8080/"
        },
        "outputId": "727e0aa6-4dcc-45cb-f4a8-03bf2759bbf3"
      },
      "execution_count": null,
      "outputs": [
        {
          "output_type": "stream",
          "name": "stdout",
          "text": [
            "8/8 [==============================] - 2s 158ms/step - loss: 0.6536 - accuracy: 0.6667\n"
          ]
        }
      ]
    },
    {
      "cell_type": "code",
      "source": [
        "from sklearn import metrics\n",
        "confusion_matrix = metrics.confusion_matrix(actual, predicted)"
      ],
      "metadata": {
        "id": "KVsV75dvITt8"
      },
      "execution_count": null,
      "outputs": []
    },
    {
      "cell_type": "code",
      "source": [
        "history.history['accuracy']"
      ],
      "metadata": {
        "id": "AH5FBwHaeTqY",
        "colab": {
          "base_uri": "https://localhost:8080/"
        },
        "outputId": "7c6f3571-c7fc-4fc0-9ca2-2a468e80f14a"
      },
      "execution_count": null,
      "outputs": [
        {
          "output_type": "execute_result",
          "data": {
            "text/plain": [
              "[0.701886773109436,\n",
              " 0.7396226525306702,\n",
              " 0.7358490824699402,\n",
              " 0.652830183506012,\n",
              " 0.701886773109436,\n",
              " 0.7320754528045654,\n",
              " 0.7132075428962708,\n",
              " 0.7396226525306702,\n",
              " 0.7396226525306702,\n",
              " 0.7396226525306702,\n",
              " 0.7396226525306702,\n",
              " 0.7396226525306702,\n",
              " 0.7396226525306702,\n",
              " 0.7396226525306702,\n",
              " 0.7396226525306702,\n",
              " 0.7396226525306702,\n",
              " 0.7396226525306702,\n",
              " 0.7396226525306702,\n",
              " 0.7396226525306702,\n",
              " 0.7396226525306702,\n",
              " 0.7396226525306702,\n",
              " 0.7396226525306702,\n",
              " 0.7396226525306702,\n",
              " 0.7396226525306702,\n",
              " 0.7396226525306702,\n",
              " 0.7396226525306702,\n",
              " 0.7396226525306702,\n",
              " 0.7396226525306702,\n",
              " 0.7396226525306702,\n",
              " 0.7396226525306702,\n",
              " 0.7396226525306702,\n",
              " 0.7396226525306702,\n",
              " 0.7396226525306702,\n",
              " 0.7396226525306702,\n",
              " 0.7396226525306702,\n",
              " 0.7396226525306702,\n",
              " 0.7396226525306702,\n",
              " 0.7396226525306702,\n",
              " 0.7396226525306702,\n",
              " 0.7396226525306702,\n",
              " 0.7396226525306702,\n",
              " 0.7396226525306702,\n",
              " 0.7396226525306702,\n",
              " 0.7396226525306702,\n",
              " 0.7396226525306702,\n",
              " 0.7396226525306702,\n",
              " 0.7396226525306702,\n",
              " 0.7396226525306702,\n",
              " 0.7396226525306702,\n",
              " 0.7396226525306702]"
            ]
          },
          "metadata": {},
          "execution_count": 53
        }
      ]
    },
    {
      "cell_type": "code",
      "source": [
        "from tensorflow.python.ops.math_ops import mean\n",
        "import statistics\n",
        "from statistics import mean\n",
        "\n",
        "\n",
        "mean(history.history['accuracy'])"
      ],
      "metadata": {
        "id": "VxHo618EiE-k",
        "colab": {
          "base_uri": "https://localhost:8080/"
        },
        "outputId": "162dd0a4-c627-4370-cbd5-0f48f50801b6"
      },
      "execution_count": null,
      "outputs": [
        {
          "output_type": "execute_result",
          "data": {
            "text/plain": [
              "0.7356226503849029"
            ]
          },
          "metadata": {},
          "execution_count": 54
        }
      ]
    },
    {
      "cell_type": "markdown",
      "source": [
        "#Alexnet Model"
      ],
      "metadata": {
        "id": "jqK0baT42z1m"
      }
    },
    {
      "cell_type": "code",
      "execution_count": null,
      "metadata": {
        "colab": {
          "base_uri": "https://localhost:8080/"
        },
        "id": "F7lh7fyBrFYm",
        "outputId": "42650434-415c-444a-aba4-19a801879247"
      },
      "outputs": [
        {
          "output_type": "stream",
          "name": "stdout",
          "text": [
            "Model: \"sequential_2\"\n",
            "_________________________________________________________________\n",
            " Layer (type)                Output Shape              Param #   \n",
            "=================================================================\n",
            " conv2d (Conv2D)             (None, 54, 54, 96)        34944     \n",
            "                                                                 \n",
            " batch_normalization (BatchN  (None, 54, 54, 96)       384       \n",
            " ormalization)                                                   \n",
            "                                                                 \n",
            " max_pooling2d (MaxPooling2D  (None, 26, 26, 96)       0         \n",
            " )                                                               \n",
            "                                                                 \n",
            " conv2d_1 (Conv2D)           (None, 26, 26, 256)       614656    \n",
            "                                                                 \n",
            " batch_normalization_1 (Batc  (None, 26, 26, 256)      1024      \n",
            " hNormalization)                                                 \n",
            "                                                                 \n",
            " max_pooling2d_1 (MaxPooling  (None, 12, 12, 256)      0         \n",
            " 2D)                                                             \n",
            "                                                                 \n",
            " conv2d_2 (Conv2D)           (None, 12, 12, 384)       885120    \n",
            "                                                                 \n",
            " batch_normalization_2 (Batc  (None, 12, 12, 384)      1536      \n",
            " hNormalization)                                                 \n",
            "                                                                 \n",
            " conv2d_3 (Conv2D)           (None, 12, 12, 384)       1327488   \n",
            "                                                                 \n",
            " batch_normalization_3 (Batc  (None, 12, 12, 384)      1536      \n",
            " hNormalization)                                                 \n",
            "                                                                 \n",
            " conv2d_4 (Conv2D)           (None, 12, 12, 256)       884992    \n",
            "                                                                 \n",
            " batch_normalization_4 (Batc  (None, 12, 12, 256)      1024      \n",
            " hNormalization)                                                 \n",
            "                                                                 \n",
            " max_pooling2d_2 (MaxPooling  (None, 5, 5, 256)        0         \n",
            " 2D)                                                             \n",
            "                                                                 \n",
            " flatten (Flatten)           (None, 6400)              0         \n",
            "                                                                 \n",
            " dense (Dense)               (None, 4096)              26218496  \n",
            "                                                                 \n",
            " dropout (Dropout)           (None, 4096)              0         \n",
            "                                                                 \n",
            " dense_1 (Dense)             (None, 10)                40970     \n",
            "                                                                 \n",
            "=================================================================\n",
            "Total params: 30,012,170\n",
            "Trainable params: 30,009,418\n",
            "Non-trainable params: 2,752\n",
            "_________________________________________________________________\n"
          ]
        },
        {
          "output_type": "stream",
          "name": "stderr",
          "text": [
            "/usr/local/lib/python3.7/dist-packages/keras/optimizer_v2/gradient_descent.py:102: UserWarning: The `lr` argument is deprecated, use `learning_rate` instead.\n",
            "  super(SGD, self).__init__(name, **kwargs)\n"
          ]
        }
      ],
      "source": [
        "import keras\n",
        "from keras.models import Sequential,Input,Model\n",
        "from keras.layers import Dense, Dropout, Flatten\n",
        "from keras.layers import Conv2D, MaxPooling2D\n",
        "from keras.layers.advanced_activations import LeakyReLU\n",
        "import tensorflow as tf\n",
        "from tensorflow import keras\n",
        "import keras.layers as layers\n",
        "model = keras.Sequential()\n",
        "model.add(layers.Conv2D(filters=96, kernel_size=(11, 11),\n",
        "                        strides=(4, 4), activation=\"relu\",\n",
        "                        input_shape=(224, 224, 3)))\n",
        "model.add(layers.BatchNormalization())\n",
        "model.add(layers.MaxPool2D(pool_size=(3, 3), strides= (2, 2)))\n",
        "model.add(layers.Conv2D(filters=256, kernel_size=(5, 5),\n",
        "                        strides=(1, 1), activation=\"relu\",\n",
        "                        padding=\"same\"))\n",
        "model.add(layers.BatchNormalization())\n",
        "model.add(layers.MaxPool2D(pool_size=(3, 3), strides=(2, 2)))\n",
        "model.add(layers.Conv2D(filters=384, kernel_size=(3, 3),\n",
        "                        strides=(1, 1), activation=\"relu\",\n",
        "                        padding=\"same\"))\n",
        "model.add(layers.BatchNormalization())\n",
        "model.add(layers.Conv2D(filters=384, kernel_size=(3, 3),\n",
        "                        strides=(1, 1), activation=\"relu\",\n",
        "                        padding=\"same\"))\n",
        "model.add(layers.BatchNormalization())\n",
        "model.add(layers.Conv2D(filters=256, kernel_size=(3, 3),\n",
        "                        strides=(1, 1), activation=\"relu\",\n",
        "                        padding=\"same\"))\n",
        "model.add(layers.BatchNormalization())\n",
        "model.add(layers.MaxPool2D(pool_size=(3, 3), strides=(2, 2)))\n",
        "model.add(layers.Flatten())\n",
        "model.add(layers.Dense(4096, activation=\"relu\"))\n",
        "model.add(layers.Dropout(0.5))\n",
        "model.add(layers.Dense(10, activation=\"softmax\"))\n",
        "model.compile(loss='sparse_categorical_crossentropy',\n",
        "              optimizer=tf.optimizers.SGD(lr=0.001),\n",
        "              metrics=['accuracy'])\n",
        "model.summary()"
      ]
    },
    {
      "cell_type": "code",
      "execution_count": null,
      "metadata": {
        "colab": {
          "base_uri": "https://localhost:8080/"
        },
        "outputId": "8e10b0e2-8876-406e-d311-73d18a0ca903",
        "id": "7cp3aWAt9UKm"
      },
      "outputs": [
        {
          "output_type": "stream",
          "name": "stdout",
          "text": [
            "Epoch 1/50\n",
            "53/53 [==============================] - 52s 116ms/step - loss: 2.2065 - accuracy: 0.6868 - val_loss: 0.3793 - val_accuracy: 0.8000\n",
            "Epoch 2/50\n",
            "53/53 [==============================] - 1s 15ms/step - loss: 1.0462 - accuracy: 0.7811 - val_loss: 0.3066 - val_accuracy: 0.8667\n",
            "Epoch 3/50\n",
            "53/53 [==============================] - 1s 15ms/step - loss: 0.4703 - accuracy: 0.8377 - val_loss: 0.5057 - val_accuracy: 0.8333\n",
            "Epoch 4/50\n",
            "53/53 [==============================] - 1s 15ms/step - loss: 0.3721 - accuracy: 0.8792 - val_loss: 0.3912 - val_accuracy: 0.8667\n",
            "Epoch 5/50\n",
            "53/53 [==============================] - 1s 15ms/step - loss: 0.1837 - accuracy: 0.9434 - val_loss: 0.5983 - val_accuracy: 0.8667\n",
            "Epoch 6/50\n",
            "53/53 [==============================] - 1s 15ms/step - loss: 0.1857 - accuracy: 0.9283 - val_loss: 0.3641 - val_accuracy: 0.8667\n",
            "Epoch 7/50\n",
            "53/53 [==============================] - 1s 15ms/step - loss: 0.0841 - accuracy: 0.9585 - val_loss: 0.2291 - val_accuracy: 0.8333\n",
            "Epoch 8/50\n",
            "53/53 [==============================] - 1s 16ms/step - loss: 0.0411 - accuracy: 0.9849 - val_loss: 0.3795 - val_accuracy: 0.8333\n",
            "Epoch 9/50\n",
            "53/53 [==============================] - 1s 15ms/step - loss: 0.0140 - accuracy: 0.9962 - val_loss: 0.3159 - val_accuracy: 0.8333\n",
            "Epoch 10/50\n",
            "53/53 [==============================] - 1s 15ms/step - loss: 0.0196 - accuracy: 0.9925 - val_loss: 0.2743 - val_accuracy: 0.8667\n",
            "Epoch 11/50\n",
            "53/53 [==============================] - 1s 15ms/step - loss: 0.0212 - accuracy: 0.9925 - val_loss: 0.2904 - val_accuracy: 0.8000\n",
            "Epoch 12/50\n",
            "53/53 [==============================] - 1s 15ms/step - loss: 0.0034 - accuracy: 1.0000 - val_loss: 0.3061 - val_accuracy: 0.8667\n",
            "Epoch 13/50\n",
            "53/53 [==============================] - 1s 15ms/step - loss: 0.0146 - accuracy: 0.9962 - val_loss: 0.6436 - val_accuracy: 0.8667\n",
            "Epoch 14/50\n",
            "53/53 [==============================] - 1s 15ms/step - loss: 0.0093 - accuracy: 0.9962 - val_loss: 0.2599 - val_accuracy: 0.9000\n",
            "Epoch 15/50\n",
            "53/53 [==============================] - 1s 15ms/step - loss: 0.0129 - accuracy: 0.9962 - val_loss: 0.2663 - val_accuracy: 0.8667\n",
            "Epoch 16/50\n",
            "53/53 [==============================] - 1s 15ms/step - loss: 0.0098 - accuracy: 0.9925 - val_loss: 0.3008 - val_accuracy: 0.8667\n",
            "Epoch 17/50\n",
            "53/53 [==============================] - 1s 15ms/step - loss: 0.0143 - accuracy: 0.9925 - val_loss: 0.1885 - val_accuracy: 0.8333\n",
            "Epoch 18/50\n",
            "53/53 [==============================] - 1s 15ms/step - loss: 0.0018 - accuracy: 1.0000 - val_loss: 0.1799 - val_accuracy: 0.9000\n",
            "Epoch 19/50\n",
            "53/53 [==============================] - 1s 15ms/step - loss: 0.0046 - accuracy: 1.0000 - val_loss: 0.1897 - val_accuracy: 0.9000\n",
            "Epoch 20/50\n",
            "53/53 [==============================] - 1s 15ms/step - loss: 0.0033 - accuracy: 1.0000 - val_loss: 0.3255 - val_accuracy: 0.9000\n",
            "Epoch 21/50\n",
            "53/53 [==============================] - 1s 15ms/step - loss: 0.0059 - accuracy: 1.0000 - val_loss: 0.3647 - val_accuracy: 0.8667\n",
            "Epoch 22/50\n",
            "53/53 [==============================] - 1s 15ms/step - loss: 0.0038 - accuracy: 0.9962 - val_loss: 0.2030 - val_accuracy: 0.9000\n",
            "Epoch 23/50\n",
            "53/53 [==============================] - 1s 15ms/step - loss: 7.4347e-04 - accuracy: 1.0000 - val_loss: 0.1955 - val_accuracy: 0.9000\n",
            "Epoch 24/50\n",
            "53/53 [==============================] - 1s 15ms/step - loss: 0.0044 - accuracy: 1.0000 - val_loss: 0.1868 - val_accuracy: 0.8667\n",
            "Epoch 25/50\n",
            "53/53 [==============================] - 1s 15ms/step - loss: 9.1118e-04 - accuracy: 1.0000 - val_loss: 0.1923 - val_accuracy: 0.8667\n",
            "Epoch 26/50\n",
            "53/53 [==============================] - 1s 15ms/step - loss: 0.0031 - accuracy: 1.0000 - val_loss: 0.2675 - val_accuracy: 0.8667\n",
            "Epoch 27/50\n",
            "53/53 [==============================] - 1s 15ms/step - loss: 0.0017 - accuracy: 1.0000 - val_loss: 0.2481 - val_accuracy: 0.9000\n",
            "Epoch 28/50\n",
            "53/53 [==============================] - 1s 15ms/step - loss: 0.0013 - accuracy: 1.0000 - val_loss: 0.2844 - val_accuracy: 0.9000\n",
            "Epoch 29/50\n",
            "53/53 [==============================] - 1s 15ms/step - loss: 6.6889e-04 - accuracy: 1.0000 - val_loss: 0.2738 - val_accuracy: 0.9000\n",
            "Epoch 30/50\n",
            "53/53 [==============================] - 1s 15ms/step - loss: 8.4373e-04 - accuracy: 1.0000 - val_loss: 0.2955 - val_accuracy: 0.8667\n",
            "Epoch 31/50\n",
            "53/53 [==============================] - 1s 15ms/step - loss: 5.0652e-04 - accuracy: 1.0000 - val_loss: 0.2957 - val_accuracy: 0.9000\n",
            "Epoch 32/50\n",
            "53/53 [==============================] - 1s 15ms/step - loss: 9.7451e-04 - accuracy: 1.0000 - val_loss: 0.3173 - val_accuracy: 0.8667\n",
            "Epoch 33/50\n",
            "53/53 [==============================] - 1s 15ms/step - loss: 8.7026e-04 - accuracy: 1.0000 - val_loss: 0.2743 - val_accuracy: 0.9000\n",
            "Epoch 34/50\n",
            "53/53 [==============================] - 1s 15ms/step - loss: 6.0690e-04 - accuracy: 1.0000 - val_loss: 0.2812 - val_accuracy: 0.9000\n",
            "Epoch 35/50\n",
            "53/53 [==============================] - 1s 15ms/step - loss: 0.0013 - accuracy: 1.0000 - val_loss: 0.2941 - val_accuracy: 0.9000\n",
            "Epoch 36/50\n",
            "53/53 [==============================] - 1s 15ms/step - loss: 0.0011 - accuracy: 1.0000 - val_loss: 0.2948 - val_accuracy: 0.9000\n",
            "Epoch 37/50\n",
            "53/53 [==============================] - 1s 15ms/step - loss: 8.0319e-04 - accuracy: 1.0000 - val_loss: 0.2925 - val_accuracy: 0.9000\n",
            "Epoch 38/50\n",
            "53/53 [==============================] - 1s 15ms/step - loss: 5.1640e-04 - accuracy: 1.0000 - val_loss: 0.2837 - val_accuracy: 0.9000\n",
            "Epoch 39/50\n",
            "53/53 [==============================] - 1s 15ms/step - loss: 4.4456e-04 - accuracy: 1.0000 - val_loss: 0.2826 - val_accuracy: 0.9000\n",
            "Epoch 40/50\n",
            "53/53 [==============================] - 1s 17ms/step - loss: 5.4918e-04 - accuracy: 1.0000 - val_loss: 0.2839 - val_accuracy: 0.9000\n",
            "Epoch 41/50\n",
            "53/53 [==============================] - 1s 17ms/step - loss: 4.0308e-04 - accuracy: 1.0000 - val_loss: 0.2896 - val_accuracy: 0.9000\n",
            "Epoch 42/50\n",
            "53/53 [==============================] - 1s 15ms/step - loss: 0.0014 - accuracy: 1.0000 - val_loss: 0.2556 - val_accuracy: 0.8667\n",
            "Epoch 43/50\n",
            "53/53 [==============================] - 1s 15ms/step - loss: 4.8825e-04 - accuracy: 1.0000 - val_loss: 0.2584 - val_accuracy: 0.8667\n",
            "Epoch 44/50\n",
            "53/53 [==============================] - 1s 15ms/step - loss: 2.7875e-04 - accuracy: 1.0000 - val_loss: 0.2593 - val_accuracy: 0.8667\n",
            "Epoch 45/50\n",
            "53/53 [==============================] - 1s 15ms/step - loss: 6.5625e-04 - accuracy: 1.0000 - val_loss: 0.2410 - val_accuracy: 0.8667\n",
            "Epoch 46/50\n",
            "53/53 [==============================] - 1s 15ms/step - loss: 4.2454e-04 - accuracy: 1.0000 - val_loss: 0.2356 - val_accuracy: 0.8667\n",
            "Epoch 47/50\n",
            "53/53 [==============================] - 1s 15ms/step - loss: 6.3232e-04 - accuracy: 1.0000 - val_loss: 0.2337 - val_accuracy: 0.8667\n",
            "Epoch 48/50\n",
            "53/53 [==============================] - 1s 15ms/step - loss: 3.2564e-04 - accuracy: 1.0000 - val_loss: 0.2356 - val_accuracy: 0.8667\n",
            "Epoch 49/50\n",
            "53/53 [==============================] - 1s 15ms/step - loss: 0.0011 - accuracy: 1.0000 - val_loss: 0.2847 - val_accuracy: 0.9000\n",
            "Epoch 50/50\n",
            "53/53 [==============================] - 1s 15ms/step - loss: 7.1667e-04 - accuracy: 1.0000 - val_loss: 0.2890 - val_accuracy: 0.9000\n"
          ]
        }
      ],
      "source": [
        "history=model.fit(\n",
        "    train_ds,\n",
        "    epochs=50,\n",
        "    verbose=1,\n",
        "    validation_data=val_ds\n",
        "\n",
        ")"
      ]
    },
    {
      "cell_type": "code",
      "source": [
        "scores=model.evaluate(test_ds)"
      ],
      "metadata": {
        "colab": {
          "base_uri": "https://localhost:8080/"
        },
        "outputId": "02f24c4e-0c70-4596-acb3-72fe56c65995",
        "id": "nNttJZJA44uh"
      },
      "execution_count": null,
      "outputs": [
        {
          "output_type": "stream",
          "name": "stdout",
          "text": [
            "8/8 [==============================] - 1s 40ms/step - loss: 0.2539 - accuracy: 0.9231\n"
          ]
        }
      ]
    },
    {
      "cell_type": "code",
      "source": [
        "history.history['accuracy']"
      ],
      "metadata": {
        "colab": {
          "base_uri": "https://localhost:8080/"
        },
        "outputId": "e2d06b9b-08a0-4ef8-e6a0-5b6942da4842",
        "id": "KtLIXpLY55Jz"
      },
      "execution_count": null,
      "outputs": [
        {
          "output_type": "execute_result",
          "data": {
            "text/plain": [
              "[0.6867924332618713,\n",
              " 0.7811321020126343,\n",
              " 0.8377358317375183,\n",
              " 0.8792452812194824,\n",
              " 0.9433962106704712,\n",
              " 0.9283018708229065,\n",
              " 0.9584905505180359,\n",
              " 0.9849056601524353,\n",
              " 0.99622642993927,\n",
              " 0.99245285987854,\n",
              " 0.99245285987854,\n",
              " 1.0,\n",
              " 0.99622642993927,\n",
              " 0.99622642993927,\n",
              " 0.99622642993927,\n",
              " 0.99245285987854,\n",
              " 0.99245285987854,\n",
              " 1.0,\n",
              " 1.0,\n",
              " 1.0,\n",
              " 1.0,\n",
              " 0.99622642993927,\n",
              " 1.0,\n",
              " 1.0,\n",
              " 1.0,\n",
              " 1.0,\n",
              " 1.0,\n",
              " 1.0,\n",
              " 1.0,\n",
              " 1.0,\n",
              " 1.0,\n",
              " 1.0,\n",
              " 1.0,\n",
              " 1.0,\n",
              " 1.0,\n",
              " 1.0,\n",
              " 1.0,\n",
              " 1.0,\n",
              " 1.0,\n",
              " 1.0,\n",
              " 1.0,\n",
              " 1.0,\n",
              " 1.0,\n",
              " 1.0,\n",
              " 1.0,\n",
              " 1.0,\n",
              " 1.0,\n",
              " 1.0,\n",
              " 1.0,\n",
              " 1.0]"
            ]
          },
          "metadata": {},
          "execution_count": 24
        }
      ]
    },
    {
      "cell_type": "code",
      "source": [
        "from tensorflow.python.ops.math_ops import mean\n",
        "import statistics\n",
        "from statistics import mean\n",
        "\n",
        "\n",
        "mean(history.history['accuracy'])"
      ],
      "metadata": {
        "colab": {
          "base_uri": "https://localhost:8080/"
        },
        "outputId": "bd784edd-72a8-4a1c-d3a0-bb24a47ce4f0",
        "id": "HQQ5t7ce8Evc"
      },
      "execution_count": null,
      "outputs": [
        {
          "output_type": "execute_result",
          "data": {
            "text/plain": [
              "0.9790188705921173"
            ]
          },
          "metadata": {},
          "execution_count": 25
        }
      ]
    },
    {
      "cell_type": "markdown",
      "source": [
        "\n",
        "\n",
        "```\n",
        "# This is formatted as code\n",
        "```\n",
        "\n",
        "#DenseNet model"
      ],
      "metadata": {
        "id": "0KA8EClBBwa1"
      }
    },
    {
      "cell_type": "code",
      "execution_count": null,
      "metadata": {
        "id": "IVIh3FUKLh0m"
      },
      "outputs": [],
      "source": [
        "model = models.Sequential([\n",
        "    resize_and_rescale,data_augmentation,\n",
        "    layers.Conv2D(16,(3,3),activation='relu',input_shape=input_shape),\n",
        "    layers.MaxPooling2D(2,2),\n",
        "    layers.Conv2D(32,kernel_size=(3,3),activation='relu'),\n",
        "    layers.MaxPooling2D((2,2)),\n",
        "    layers.Conv2D(32,kernel_size=(3,3),activation='relu'),\n",
        "    layers.MaxPooling2D((2,2)),\n",
        "    layers.Conv2D(64,kernel_size=(3,3),activation='relu'),\n",
        "    layers.MaxPooling2D((2,2)),\n",
        "    layers.Conv2D(64,(3,3),activation='relu'),\n",
        "    layers.MaxPooling2D((2,2)),\n",
        "    layers.Conv2D(64,(3,3),activation='relu'),\n",
        "    layers.MaxPooling2D((2,2)),\n",
        "    layers.Flatten(),\n",
        "    layers.Dense(128,activation='relu'),\n",
        "    layers.Dense(256,activation='relu'),\n",
        "    layers.Dense(n_classes,activation='softmax')\n",
        "\n",
        "])"
      ]
    },
    {
      "cell_type": "code",
      "execution_count": null,
      "metadata": {
        "id": "RfkYf6HyDCCL"
      },
      "outputs": [],
      "source": [
        "model.build(input_shape=input_shape)\n",
        "EPOCHS=50"
      ]
    },
    {
      "cell_type": "code",
      "execution_count": null,
      "metadata": {
        "colab": {
          "base_uri": "https://localhost:8080/"
        },
        "id": "vPHQDumTPzRe",
        "outputId": "3940fc63-1bd7-4b05-e2b5-ee72e0fbce0e"
      },
      "outputs": [
        {
          "output_type": "stream",
          "name": "stdout",
          "text": [
            "Model: \"sequential_4\"\n",
            "_________________________________________________________________\n",
            " Layer (type)                Output Shape              Param #   \n",
            "=================================================================\n",
            " sequential (Sequential)     (5, 224, 224, 3)          0         \n",
            "                                                                 \n",
            " sequential_1 (Sequential)   (5, 224, 224, 3)          0         \n",
            "                                                                 \n",
            " conv2d_11 (Conv2D)          (5, 222, 222, 16)         448       \n",
            "                                                                 \n",
            " max_pooling2d_9 (MaxPooling  (5, 111, 111, 16)        0         \n",
            " 2D)                                                             \n",
            "                                                                 \n",
            " conv2d_12 (Conv2D)          (5, 109, 109, 32)         4640      \n",
            "                                                                 \n",
            " max_pooling2d_10 (MaxPoolin  (5, 54, 54, 32)          0         \n",
            " g2D)                                                            \n",
            "                                                                 \n",
            " conv2d_13 (Conv2D)          (5, 52, 52, 32)           9248      \n",
            "                                                                 \n",
            " max_pooling2d_11 (MaxPoolin  (5, 26, 26, 32)          0         \n",
            " g2D)                                                            \n",
            "                                                                 \n",
            " conv2d_14 (Conv2D)          (5, 24, 24, 64)           18496     \n",
            "                                                                 \n",
            " max_pooling2d_12 (MaxPoolin  (5, 12, 12, 64)          0         \n",
            " g2D)                                                            \n",
            "                                                                 \n",
            " conv2d_15 (Conv2D)          (5, 10, 10, 64)           36928     \n",
            "                                                                 \n",
            " max_pooling2d_13 (MaxPoolin  (5, 5, 5, 64)            0         \n",
            " g2D)                                                            \n",
            "                                                                 \n",
            " conv2d_16 (Conv2D)          (5, 3, 3, 64)             36928     \n",
            "                                                                 \n",
            " max_pooling2d_14 (MaxPoolin  (5, 1, 1, 64)            0         \n",
            " g2D)                                                            \n",
            "                                                                 \n",
            " flatten_2 (Flatten)         (5, 64)                   0         \n",
            "                                                                 \n",
            " dense_5 (Dense)             (5, 128)                  8320      \n",
            "                                                                 \n",
            " dense_6 (Dense)             (5, 256)                  33024     \n",
            "                                                                 \n",
            " dense_7 (Dense)             (5, 2)                    514       \n",
            "                                                                 \n",
            "=================================================================\n",
            "Total params: 148,546\n",
            "Trainable params: 148,546\n",
            "Non-trainable params: 0\n",
            "_________________________________________________________________\n"
          ]
        }
      ],
      "source": [
        "model.summary()"
      ]
    },
    {
      "cell_type": "code",
      "execution_count": null,
      "metadata": {
        "id": "lymnapL_QKIV"
      },
      "outputs": [],
      "source": [
        "model.compile(\n",
        "    optimizer='adam',\n",
        "    loss=tf.keras.losses.SparseCategoricalCrossentropy(from_logits=False),\n",
        "    metrics=['accuracy']\n",
        "              )"
      ]
    },
    {
      "cell_type": "code",
      "execution_count": null,
      "metadata": {
        "colab": {
          "base_uri": "https://localhost:8080/"
        },
        "id": "JP4K-7IxSIt9",
        "outputId": "03d66e8f-6354-47b3-8df8-282b4a7b4211"
      },
      "outputs": [
        {
          "output_type": "stream",
          "name": "stdout",
          "text": [
            "Epoch 1/50\n",
            "53/53 [==============================] - 3s 12ms/step - loss: 0.6121 - accuracy: 0.7057 - val_loss: 0.5734 - val_accuracy: 0.7000\n",
            "Epoch 2/50\n",
            "53/53 [==============================] - 0s 9ms/step - loss: 0.5637 - accuracy: 0.7245 - val_loss: 0.4444 - val_accuracy: 0.7000\n",
            "Epoch 3/50\n",
            "53/53 [==============================] - 0s 9ms/step - loss: 0.5052 - accuracy: 0.6981 - val_loss: 0.4646 - val_accuracy: 0.7000\n",
            "Epoch 4/50\n",
            "53/53 [==============================] - 0s 9ms/step - loss: 0.4472 - accuracy: 0.7245 - val_loss: 0.3786 - val_accuracy: 0.7000\n",
            "Epoch 5/50\n",
            "53/53 [==============================] - 0s 9ms/step - loss: 0.4353 - accuracy: 0.7358 - val_loss: 0.4600 - val_accuracy: 0.7000\n",
            "Epoch 6/50\n",
            "53/53 [==============================] - 0s 9ms/step - loss: 0.4436 - accuracy: 0.7208 - val_loss: 0.4451 - val_accuracy: 0.7000\n",
            "Epoch 7/50\n",
            "53/53 [==============================] - 0s 9ms/step - loss: 0.4096 - accuracy: 0.7736 - val_loss: 0.3490 - val_accuracy: 0.8667\n",
            "Epoch 8/50\n",
            "53/53 [==============================] - 0s 9ms/step - loss: 0.4059 - accuracy: 0.7547 - val_loss: 0.3566 - val_accuracy: 0.8000\n",
            "Epoch 9/50\n",
            "53/53 [==============================] - 0s 9ms/step - loss: 0.4140 - accuracy: 0.7434 - val_loss: 0.3746 - val_accuracy: 0.8000\n",
            "Epoch 10/50\n",
            "53/53 [==============================] - 0s 9ms/step - loss: 0.4103 - accuracy: 0.7623 - val_loss: 0.3554 - val_accuracy: 0.7667\n",
            "Epoch 11/50\n",
            "53/53 [==============================] - 0s 9ms/step - loss: 0.3920 - accuracy: 0.8038 - val_loss: 0.3368 - val_accuracy: 0.8667\n",
            "Epoch 12/50\n",
            "53/53 [==============================] - 0s 9ms/step - loss: 0.3614 - accuracy: 0.7925 - val_loss: 0.2299 - val_accuracy: 0.9333\n",
            "Epoch 13/50\n",
            "53/53 [==============================] - 0s 9ms/step - loss: 0.3616 - accuracy: 0.8000 - val_loss: 0.2695 - val_accuracy: 0.8667\n",
            "Epoch 14/50\n",
            "53/53 [==============================] - 0s 9ms/step - loss: 0.4372 - accuracy: 0.8038 - val_loss: 0.4556 - val_accuracy: 0.8333\n",
            "Epoch 15/50\n",
            "53/53 [==============================] - 0s 9ms/step - loss: 0.4102 - accuracy: 0.8151 - val_loss: 0.2925 - val_accuracy: 0.9000\n",
            "Epoch 16/50\n",
            "53/53 [==============================] - 0s 9ms/step - loss: 0.3278 - accuracy: 0.8453 - val_loss: 0.2946 - val_accuracy: 0.9000\n",
            "Epoch 17/50\n",
            "53/53 [==============================] - 0s 9ms/step - loss: 0.3548 - accuracy: 0.8113 - val_loss: 0.2523 - val_accuracy: 0.8667\n",
            "Epoch 18/50\n",
            "53/53 [==============================] - 0s 9ms/step - loss: 0.3935 - accuracy: 0.8415 - val_loss: 0.3680 - val_accuracy: 0.9000\n",
            "Epoch 19/50\n",
            "53/53 [==============================] - 0s 9ms/step - loss: 0.3497 - accuracy: 0.8491 - val_loss: 0.2159 - val_accuracy: 0.9333\n",
            "Epoch 20/50\n",
            "53/53 [==============================] - 0s 9ms/step - loss: 0.3381 - accuracy: 0.8528 - val_loss: 0.2350 - val_accuracy: 0.9333\n",
            "Epoch 21/50\n",
            "53/53 [==============================] - 0s 9ms/step - loss: 0.3330 - accuracy: 0.8528 - val_loss: 0.2696 - val_accuracy: 0.9000\n",
            "Epoch 22/50\n",
            "53/53 [==============================] - 0s 9ms/step - loss: 0.3227 - accuracy: 0.8566 - val_loss: 0.1967 - val_accuracy: 0.9333\n",
            "Epoch 23/50\n",
            "53/53 [==============================] - 0s 9ms/step - loss: 0.3329 - accuracy: 0.8528 - val_loss: 0.2371 - val_accuracy: 0.9000\n",
            "Epoch 24/50\n",
            "53/53 [==============================] - 0s 9ms/step - loss: 0.3051 - accuracy: 0.8830 - val_loss: 0.2594 - val_accuracy: 0.9000\n",
            "Epoch 25/50\n",
            "53/53 [==============================] - 0s 9ms/step - loss: 0.3007 - accuracy: 0.8755 - val_loss: 0.1769 - val_accuracy: 0.9667\n",
            "Epoch 26/50\n",
            "53/53 [==============================] - 0s 9ms/step - loss: 0.3298 - accuracy: 0.8377 - val_loss: 0.1952 - val_accuracy: 0.9333\n",
            "Epoch 27/50\n",
            "53/53 [==============================] - 0s 9ms/step - loss: 0.2985 - accuracy: 0.8566 - val_loss: 0.1792 - val_accuracy: 0.9667\n",
            "Epoch 28/50\n",
            "53/53 [==============================] - 0s 9ms/step - loss: 0.2871 - accuracy: 0.8981 - val_loss: 0.2374 - val_accuracy: 0.9000\n",
            "Epoch 29/50\n",
            "53/53 [==============================] - 0s 9ms/step - loss: 0.3055 - accuracy: 0.8453 - val_loss: 0.1844 - val_accuracy: 0.9667\n",
            "Epoch 30/50\n",
            "53/53 [==============================] - 0s 9ms/step - loss: 0.2968 - accuracy: 0.8491 - val_loss: 0.2332 - val_accuracy: 0.9333\n",
            "Epoch 31/50\n",
            "53/53 [==============================] - 0s 9ms/step - loss: 0.3162 - accuracy: 0.8302 - val_loss: 0.1999 - val_accuracy: 0.9000\n",
            "Epoch 32/50\n",
            "53/53 [==============================] - 0s 9ms/step - loss: 0.3200 - accuracy: 0.8151 - val_loss: 0.2211 - val_accuracy: 0.9333\n",
            "Epoch 33/50\n",
            "53/53 [==============================] - 0s 9ms/step - loss: 0.2850 - accuracy: 0.8755 - val_loss: 0.1645 - val_accuracy: 0.9667\n",
            "Epoch 34/50\n",
            "53/53 [==============================] - 0s 9ms/step - loss: 0.3129 - accuracy: 0.8755 - val_loss: 0.1970 - val_accuracy: 0.9333\n",
            "Epoch 35/50\n",
            "53/53 [==============================] - 0s 9ms/step - loss: 0.2638 - accuracy: 0.9057 - val_loss: 0.2674 - val_accuracy: 0.8333\n",
            "Epoch 36/50\n",
            "53/53 [==============================] - 0s 9ms/step - loss: 0.3195 - accuracy: 0.8453 - val_loss: 0.2339 - val_accuracy: 0.9000\n",
            "Epoch 37/50\n",
            "53/53 [==============================] - 0s 8ms/step - loss: 0.2647 - accuracy: 0.8830 - val_loss: 0.1660 - val_accuracy: 0.9333\n",
            "Epoch 38/50\n",
            "53/53 [==============================] - 0s 9ms/step - loss: 0.3052 - accuracy: 0.8642 - val_loss: 0.2218 - val_accuracy: 0.9333\n",
            "Epoch 39/50\n",
            "53/53 [==============================] - 0s 9ms/step - loss: 0.2690 - accuracy: 0.8906 - val_loss: 0.1664 - val_accuracy: 0.9667\n",
            "Epoch 40/50\n",
            "53/53 [==============================] - 0s 9ms/step - loss: 0.2793 - accuracy: 0.8717 - val_loss: 0.2829 - val_accuracy: 0.8667\n",
            "Epoch 41/50\n",
            "53/53 [==============================] - 0s 9ms/step - loss: 0.2710 - accuracy: 0.8604 - val_loss: 0.1610 - val_accuracy: 0.9667\n",
            "Epoch 42/50\n",
            "53/53 [==============================] - 0s 9ms/step - loss: 0.2646 - accuracy: 0.8943 - val_loss: 0.1435 - val_accuracy: 0.9333\n",
            "Epoch 43/50\n",
            "53/53 [==============================] - 0s 9ms/step - loss: 0.2527 - accuracy: 0.8868 - val_loss: 0.1736 - val_accuracy: 0.9333\n",
            "Epoch 44/50\n",
            "53/53 [==============================] - 0s 9ms/step - loss: 0.2805 - accuracy: 0.8642 - val_loss: 0.1951 - val_accuracy: 0.9333\n",
            "Epoch 45/50\n",
            "53/53 [==============================] - 0s 9ms/step - loss: 0.2929 - accuracy: 0.8604 - val_loss: 0.1876 - val_accuracy: 0.9667\n",
            "Epoch 46/50\n",
            "53/53 [==============================] - 0s 9ms/step - loss: 0.3138 - accuracy: 0.8679 - val_loss: 0.2739 - val_accuracy: 0.9333\n",
            "Epoch 47/50\n",
            "53/53 [==============================] - 0s 9ms/step - loss: 0.2892 - accuracy: 0.8755 - val_loss: 0.1416 - val_accuracy: 0.9667\n",
            "Epoch 48/50\n",
            "53/53 [==============================] - 0s 9ms/step - loss: 0.2439 - accuracy: 0.8755 - val_loss: 0.1480 - val_accuracy: 0.9333\n",
            "Epoch 49/50\n",
            "53/53 [==============================] - 0s 9ms/step - loss: 0.2864 - accuracy: 0.8264 - val_loss: 0.1552 - val_accuracy: 0.9333\n",
            "Epoch 50/50\n",
            "53/53 [==============================] - 0s 9ms/step - loss: 0.3025 - accuracy: 0.8528 - val_loss: 0.1259 - val_accuracy: 0.9667\n"
          ]
        }
      ],
      "source": [
        "history=model.fit(\n",
        "    train_ds,\n",
        "    epochs=EPOCHS,\n",
        "    verbose=1,\n",
        "    validation_data=val_ds\n",
        "\n",
        ")"
      ]
    },
    {
      "cell_type": "code",
      "execution_count": null,
      "metadata": {
        "id": "wsb5OG5IV8by",
        "colab": {
          "base_uri": "https://localhost:8080/"
        },
        "outputId": "ec212df1-c6af-47c1-9d9d-652d8379b1ed"
      },
      "outputs": [
        {
          "output_type": "stream",
          "name": "stdout",
          "text": [
            "8/8 [==============================] - 0s 28ms/step - loss: 0.1464 - accuracy: 0.9487\n"
          ]
        }
      ],
      "source": [
        "scores=model.evaluate(test_ds)"
      ]
    },
    {
      "cell_type": "code",
      "execution_count": null,
      "metadata": {
        "id": "Auy6BdKIG1rT",
        "colab": {
          "base_uri": "https://localhost:8080/"
        },
        "outputId": "4e7819ff-ff15-4972-dacc-62c772184850"
      },
      "outputs": [
        {
          "output_type": "execute_result",
          "data": {
            "text/plain": [
              "[0.7056604027748108,\n",
              " 0.7245283126831055,\n",
              " 0.698113203048706,\n",
              " 0.7245283126831055,\n",
              " 0.7358490824699402,\n",
              " 0.7207547426223755,\n",
              " 0.7735849022865295,\n",
              " 0.7547169923782349,\n",
              " 0.7433962225914001,\n",
              " 0.7622641324996948,\n",
              " 0.8037735819816589,\n",
              " 0.7924528121948242,\n",
              " 0.800000011920929,\n",
              " 0.8037735819816589,\n",
              " 0.8150943517684937,\n",
              " 0.845283031463623,\n",
              " 0.8113207817077637,\n",
              " 0.8415094614028931,\n",
              " 0.849056601524353,\n",
              " 0.852830171585083,\n",
              " 0.852830171585083,\n",
              " 0.8566038012504578,\n",
              " 0.852830171585083,\n",
              " 0.8830188512802124,\n",
              " 0.8754717111587524,\n",
              " 0.8377358317375183,\n",
              " 0.8566038012504578,\n",
              " 0.8981131911277771,\n",
              " 0.845283031463623,\n",
              " 0.849056601524353,\n",
              " 0.8301886916160583,\n",
              " 0.8150943517684937,\n",
              " 0.8754717111587524,\n",
              " 0.8754717111587524,\n",
              " 0.9056603908538818,\n",
              " 0.845283031463623,\n",
              " 0.8830188512802124,\n",
              " 0.8641509413719177,\n",
              " 0.8905660510063171,\n",
              " 0.8716981410980225,\n",
              " 0.8603773713111877,\n",
              " 0.8943396210670471,\n",
              " 0.8867924809455872,\n",
              " 0.8641509413719177,\n",
              " 0.8603773713111877,\n",
              " 0.8679245114326477,\n",
              " 0.8754717111587524,\n",
              " 0.8754717111587524,\n",
              " 0.8264151215553284,\n",
              " 0.852830171585083]"
            ]
          },
          "metadata": {},
          "execution_count": 33
        }
      ],
      "source": [
        "history.history['accuracy']"
      ]
    },
    {
      "cell_type": "code",
      "source": [
        "from tensorflow.python.ops.math_ops import mean\n",
        "import statistics\n",
        "from statistics import mean\n",
        "\n",
        "\n",
        "mean(history.history['accuracy'])"
      ],
      "metadata": {
        "colab": {
          "base_uri": "https://localhost:8080/"
        },
        "outputId": "68346fdd-7549-4111-ac52-5634711aa905",
        "id": "9ete1y2jFMPd"
      },
      "execution_count": null,
      "outputs": [
        {
          "output_type": "execute_result",
          "data": {
            "text/plain": [
              "0.8297358548641205"
            ]
          },
          "metadata": {},
          "execution_count": 34
        }
      ]
    },
    {
      "cell_type": "markdown",
      "source": [
        "#EfficientNet model"
      ],
      "metadata": {
        "id": "mEh-OQnaHNxu"
      }
    },
    {
      "cell_type": "code",
      "execution_count": null,
      "metadata": {
        "colab": {
          "base_uri": "https://localhost:8080/"
        },
        "id": "yA_nZn6IbxWc",
        "outputId": "3758694b-4ee1-4524-f5ee-369378bd4349"
      },
      "outputs": [
        {
          "output_type": "stream",
          "name": "stdout",
          "text": [
            "Downloading data from https://storage.googleapis.com/keras-applications/efficientnetb0.h5\n",
            "21839872/21834768 [==============================] - 0s 0us/step\n",
            "21848064/21834768 [==============================] - 0s 0us/step\n"
          ]
        }
      ],
      "source": [
        "from tensorflow.keras.applications import EfficientNetB0\n",
        "model = EfficientNetB0(weights='imagenet')"
      ]
    },
    {
      "cell_type": "code",
      "execution_count": null,
      "metadata": {
        "colab": {
          "base_uri": "https://localhost:8080/"
        },
        "id": "xpLg0e4Wp2Ol",
        "outputId": "f36ed090-d4e1-4319-913e-976399211200"
      },
      "outputs": [
        {
          "output_type": "stream",
          "name": "stdout",
          "text": [
            "Downloading data from https://storage.googleapis.com/keras-applications/efficientnetb0_notop.h5\n",
            "16711680/16705208 [==============================] - 0s 0us/step\n",
            "16719872/16705208 [==============================] - 0s 0us/step\n"
          ]
        }
      ],
      "source": [
        "model = EfficientNetB0(include_top=False, weights='imagenet')\n"
      ]
    },
    {
      "cell_type": "code",
      "execution_count": null,
      "metadata": {
        "id": "ui4CKfNRqCW4"
      },
      "outputs": [],
      "source": [
        "model = EfficientNetB0(weights='imagenet', drop_connect_rate=0.4)\n"
      ]
    },
    {
      "cell_type": "code",
      "execution_count": null,
      "metadata": {
        "colab": {
          "base_uri": "https://localhost:8080/"
        },
        "id": "ZgKAvNFzqFRn",
        "outputId": "00efd6c4-88ca-4628-d36b-8ed534211cec"
      },
      "outputs": [
        {
          "output_type": "stream",
          "name": "stdout",
          "text": [
            "Model: \"efficientnetb0\"\n",
            "__________________________________________________________________________________________________\n",
            " Layer (type)                   Output Shape         Param #     Connected to                     \n",
            "==================================================================================================\n",
            " input_3 (InputLayer)           [(None, 224, 224, 3  0           []                               \n",
            "                                )]                                                                \n",
            "                                                                                                  \n",
            " rescaling_3 (Rescaling)        (None, 224, 224, 3)  0           ['input_3[0][0]']                \n",
            "                                                                                                  \n",
            " normalization_2 (Normalization  (None, 224, 224, 3)  7          ['rescaling_3[0][0]']            \n",
            " )                                                                                                \n",
            "                                                                                                  \n",
            " stem_conv_pad (ZeroPadding2D)  (None, 225, 225, 3)  0           ['normalization_2[0][0]']        \n",
            "                                                                                                  \n",
            " stem_conv (Conv2D)             (None, 112, 112, 32  864         ['stem_conv_pad[0][0]']          \n",
            "                                )                                                                 \n",
            "                                                                                                  \n",
            " stem_bn (BatchNormalization)   (None, 112, 112, 32  128         ['stem_conv[0][0]']              \n",
            "                                )                                                                 \n",
            "                                                                                                  \n",
            " stem_activation (Activation)   (None, 112, 112, 32  0           ['stem_bn[0][0]']                \n",
            "                                )                                                                 \n",
            "                                                                                                  \n",
            " block1a_dwconv (DepthwiseConv2  (None, 112, 112, 32  288        ['stem_activation[0][0]']        \n",
            " D)                             )                                                                 \n",
            "                                                                                                  \n",
            " block1a_bn (BatchNormalization  (None, 112, 112, 32  128        ['block1a_dwconv[0][0]']         \n",
            " )                              )                                                                 \n",
            "                                                                                                  \n",
            " block1a_activation (Activation  (None, 112, 112, 32  0          ['block1a_bn[0][0]']             \n",
            " )                              )                                                                 \n",
            "                                                                                                  \n",
            " block1a_se_squeeze (GlobalAver  (None, 32)          0           ['block1a_activation[0][0]']     \n",
            " agePooling2D)                                                                                    \n",
            "                                                                                                  \n",
            " block1a_se_reshape (Reshape)   (None, 1, 1, 32)     0           ['block1a_se_squeeze[0][0]']     \n",
            "                                                                                                  \n",
            " block1a_se_reduce (Conv2D)     (None, 1, 1, 8)      264         ['block1a_se_reshape[0][0]']     \n",
            "                                                                                                  \n",
            " block1a_se_expand (Conv2D)     (None, 1, 1, 32)     288         ['block1a_se_reduce[0][0]']      \n",
            "                                                                                                  \n",
            " block1a_se_excite (Multiply)   (None, 112, 112, 32  0           ['block1a_activation[0][0]',     \n",
            "                                )                                 'block1a_se_expand[0][0]']      \n",
            "                                                                                                  \n",
            " block1a_project_conv (Conv2D)  (None, 112, 112, 16  512         ['block1a_se_excite[0][0]']      \n",
            "                                )                                                                 \n",
            "                                                                                                  \n",
            " block1a_project_bn (BatchNorma  (None, 112, 112, 16  64         ['block1a_project_conv[0][0]']   \n",
            " lization)                      )                                                                 \n",
            "                                                                                                  \n",
            " block2a_expand_conv (Conv2D)   (None, 112, 112, 96  1536        ['block1a_project_bn[0][0]']     \n",
            "                                )                                                                 \n",
            "                                                                                                  \n",
            " block2a_expand_bn (BatchNormal  (None, 112, 112, 96  384        ['block2a_expand_conv[0][0]']    \n",
            " ization)                       )                                                                 \n",
            "                                                                                                  \n",
            " block2a_expand_activation (Act  (None, 112, 112, 96  0          ['block2a_expand_bn[0][0]']      \n",
            " ivation)                       )                                                                 \n",
            "                                                                                                  \n",
            " block2a_dwconv_pad (ZeroPaddin  (None, 113, 113, 96  0          ['block2a_expand_activation[0][0]\n",
            " g2D)                           )                                ']                               \n",
            "                                                                                                  \n",
            " block2a_dwconv (DepthwiseConv2  (None, 56, 56, 96)  864         ['block2a_dwconv_pad[0][0]']     \n",
            " D)                                                                                               \n",
            "                                                                                                  \n",
            " block2a_bn (BatchNormalization  (None, 56, 56, 96)  384         ['block2a_dwconv[0][0]']         \n",
            " )                                                                                                \n",
            "                                                                                                  \n",
            " block2a_activation (Activation  (None, 56, 56, 96)  0           ['block2a_bn[0][0]']             \n",
            " )                                                                                                \n",
            "                                                                                                  \n",
            " block2a_se_squeeze (GlobalAver  (None, 96)          0           ['block2a_activation[0][0]']     \n",
            " agePooling2D)                                                                                    \n",
            "                                                                                                  \n",
            " block2a_se_reshape (Reshape)   (None, 1, 1, 96)     0           ['block2a_se_squeeze[0][0]']     \n",
            "                                                                                                  \n",
            " block2a_se_reduce (Conv2D)     (None, 1, 1, 4)      388         ['block2a_se_reshape[0][0]']     \n",
            "                                                                                                  \n",
            " block2a_se_expand (Conv2D)     (None, 1, 1, 96)     480         ['block2a_se_reduce[0][0]']      \n",
            "                                                                                                  \n",
            " block2a_se_excite (Multiply)   (None, 56, 56, 96)   0           ['block2a_activation[0][0]',     \n",
            "                                                                  'block2a_se_expand[0][0]']      \n",
            "                                                                                                  \n",
            " block2a_project_conv (Conv2D)  (None, 56, 56, 24)   2304        ['block2a_se_excite[0][0]']      \n",
            "                                                                                                  \n",
            " block2a_project_bn (BatchNorma  (None, 56, 56, 24)  96          ['block2a_project_conv[0][0]']   \n",
            " lization)                                                                                        \n",
            "                                                                                                  \n",
            " block2b_expand_conv (Conv2D)   (None, 56, 56, 144)  3456        ['block2a_project_bn[0][0]']     \n",
            "                                                                                                  \n",
            " block2b_expand_bn (BatchNormal  (None, 56, 56, 144)  576        ['block2b_expand_conv[0][0]']    \n",
            " ization)                                                                                         \n",
            "                                                                                                  \n",
            " block2b_expand_activation (Act  (None, 56, 56, 144)  0          ['block2b_expand_bn[0][0]']      \n",
            " ivation)                                                                                         \n",
            "                                                                                                  \n",
            " block2b_dwconv (DepthwiseConv2  (None, 56, 56, 144)  1296       ['block2b_expand_activation[0][0]\n",
            " D)                                                              ']                               \n",
            "                                                                                                  \n",
            " block2b_bn (BatchNormalization  (None, 56, 56, 144)  576        ['block2b_dwconv[0][0]']         \n",
            " )                                                                                                \n",
            "                                                                                                  \n",
            " block2b_activation (Activation  (None, 56, 56, 144)  0          ['block2b_bn[0][0]']             \n",
            " )                                                                                                \n",
            "                                                                                                  \n",
            " block2b_se_squeeze (GlobalAver  (None, 144)         0           ['block2b_activation[0][0]']     \n",
            " agePooling2D)                                                                                    \n",
            "                                                                                                  \n",
            " block2b_se_reshape (Reshape)   (None, 1, 1, 144)    0           ['block2b_se_squeeze[0][0]']     \n",
            "                                                                                                  \n",
            " block2b_se_reduce (Conv2D)     (None, 1, 1, 6)      870         ['block2b_se_reshape[0][0]']     \n",
            "                                                                                                  \n",
            " block2b_se_expand (Conv2D)     (None, 1, 1, 144)    1008        ['block2b_se_reduce[0][0]']      \n",
            "                                                                                                  \n",
            " block2b_se_excite (Multiply)   (None, 56, 56, 144)  0           ['block2b_activation[0][0]',     \n",
            "                                                                  'block2b_se_expand[0][0]']      \n",
            "                                                                                                  \n",
            " block2b_project_conv (Conv2D)  (None, 56, 56, 24)   3456        ['block2b_se_excite[0][0]']      \n",
            "                                                                                                  \n",
            " block2b_project_bn (BatchNorma  (None, 56, 56, 24)  96          ['block2b_project_conv[0][0]']   \n",
            " lization)                                                                                        \n",
            "                                                                                                  \n",
            " block2b_drop (Dropout)         (None, 56, 56, 24)   0           ['block2b_project_bn[0][0]']     \n",
            "                                                                                                  \n",
            " block2b_add (Add)              (None, 56, 56, 24)   0           ['block2b_drop[0][0]',           \n",
            "                                                                  'block2a_project_bn[0][0]']     \n",
            "                                                                                                  \n",
            " block3a_expand_conv (Conv2D)   (None, 56, 56, 144)  3456        ['block2b_add[0][0]']            \n",
            "                                                                                                  \n",
            " block3a_expand_bn (BatchNormal  (None, 56, 56, 144)  576        ['block3a_expand_conv[0][0]']    \n",
            " ization)                                                                                         \n",
            "                                                                                                  \n",
            " block3a_expand_activation (Act  (None, 56, 56, 144)  0          ['block3a_expand_bn[0][0]']      \n",
            " ivation)                                                                                         \n",
            "                                                                                                  \n",
            " block3a_dwconv_pad (ZeroPaddin  (None, 59, 59, 144)  0          ['block3a_expand_activation[0][0]\n",
            " g2D)                                                            ']                               \n",
            "                                                                                                  \n",
            " block3a_dwconv (DepthwiseConv2  (None, 28, 28, 144)  3600       ['block3a_dwconv_pad[0][0]']     \n",
            " D)                                                                                               \n",
            "                                                                                                  \n",
            " block3a_bn (BatchNormalization  (None, 28, 28, 144)  576        ['block3a_dwconv[0][0]']         \n",
            " )                                                                                                \n",
            "                                                                                                  \n",
            " block3a_activation (Activation  (None, 28, 28, 144)  0          ['block3a_bn[0][0]']             \n",
            " )                                                                                                \n",
            "                                                                                                  \n",
            " block3a_se_squeeze (GlobalAver  (None, 144)         0           ['block3a_activation[0][0]']     \n",
            " agePooling2D)                                                                                    \n",
            "                                                                                                  \n",
            " block3a_se_reshape (Reshape)   (None, 1, 1, 144)    0           ['block3a_se_squeeze[0][0]']     \n",
            "                                                                                                  \n",
            " block3a_se_reduce (Conv2D)     (None, 1, 1, 6)      870         ['block3a_se_reshape[0][0]']     \n",
            "                                                                                                  \n",
            " block3a_se_expand (Conv2D)     (None, 1, 1, 144)    1008        ['block3a_se_reduce[0][0]']      \n",
            "                                                                                                  \n",
            " block3a_se_excite (Multiply)   (None, 28, 28, 144)  0           ['block3a_activation[0][0]',     \n",
            "                                                                  'block3a_se_expand[0][0]']      \n",
            "                                                                                                  \n",
            " block3a_project_conv (Conv2D)  (None, 28, 28, 40)   5760        ['block3a_se_excite[0][0]']      \n",
            "                                                                                                  \n",
            " block3a_project_bn (BatchNorma  (None, 28, 28, 40)  160         ['block3a_project_conv[0][0]']   \n",
            " lization)                                                                                        \n",
            "                                                                                                  \n",
            " block3b_expand_conv (Conv2D)   (None, 28, 28, 240)  9600        ['block3a_project_bn[0][0]']     \n",
            "                                                                                                  \n",
            " block3b_expand_bn (BatchNormal  (None, 28, 28, 240)  960        ['block3b_expand_conv[0][0]']    \n",
            " ization)                                                                                         \n",
            "                                                                                                  \n",
            " block3b_expand_activation (Act  (None, 28, 28, 240)  0          ['block3b_expand_bn[0][0]']      \n",
            " ivation)                                                                                         \n",
            "                                                                                                  \n",
            " block3b_dwconv (DepthwiseConv2  (None, 28, 28, 240)  6000       ['block3b_expand_activation[0][0]\n",
            " D)                                                              ']                               \n",
            "                                                                                                  \n",
            " block3b_bn (BatchNormalization  (None, 28, 28, 240)  960        ['block3b_dwconv[0][0]']         \n",
            " )                                                                                                \n",
            "                                                                                                  \n",
            " block3b_activation (Activation  (None, 28, 28, 240)  0          ['block3b_bn[0][0]']             \n",
            " )                                                                                                \n",
            "                                                                                                  \n",
            " block3b_se_squeeze (GlobalAver  (None, 240)         0           ['block3b_activation[0][0]']     \n",
            " agePooling2D)                                                                                    \n",
            "                                                                                                  \n",
            " block3b_se_reshape (Reshape)   (None, 1, 1, 240)    0           ['block3b_se_squeeze[0][0]']     \n",
            "                                                                                                  \n",
            " block3b_se_reduce (Conv2D)     (None, 1, 1, 10)     2410        ['block3b_se_reshape[0][0]']     \n",
            "                                                                                                  \n",
            " block3b_se_expand (Conv2D)     (None, 1, 1, 240)    2640        ['block3b_se_reduce[0][0]']      \n",
            "                                                                                                  \n",
            " block3b_se_excite (Multiply)   (None, 28, 28, 240)  0           ['block3b_activation[0][0]',     \n",
            "                                                                  'block3b_se_expand[0][0]']      \n",
            "                                                                                                  \n",
            " block3b_project_conv (Conv2D)  (None, 28, 28, 40)   9600        ['block3b_se_excite[0][0]']      \n",
            "                                                                                                  \n",
            " block3b_project_bn (BatchNorma  (None, 28, 28, 40)  160         ['block3b_project_conv[0][0]']   \n",
            " lization)                                                                                        \n",
            "                                                                                                  \n",
            " block3b_drop (Dropout)         (None, 28, 28, 40)   0           ['block3b_project_bn[0][0]']     \n",
            "                                                                                                  \n",
            " block3b_add (Add)              (None, 28, 28, 40)   0           ['block3b_drop[0][0]',           \n",
            "                                                                  'block3a_project_bn[0][0]']     \n",
            "                                                                                                  \n",
            " block4a_expand_conv (Conv2D)   (None, 28, 28, 240)  9600        ['block3b_add[0][0]']            \n",
            "                                                                                                  \n",
            " block4a_expand_bn (BatchNormal  (None, 28, 28, 240)  960        ['block4a_expand_conv[0][0]']    \n",
            " ization)                                                                                         \n",
            "                                                                                                  \n",
            " block4a_expand_activation (Act  (None, 28, 28, 240)  0          ['block4a_expand_bn[0][0]']      \n",
            " ivation)                                                                                         \n",
            "                                                                                                  \n",
            " block4a_dwconv_pad (ZeroPaddin  (None, 29, 29, 240)  0          ['block4a_expand_activation[0][0]\n",
            " g2D)                                                            ']                               \n",
            "                                                                                                  \n",
            " block4a_dwconv (DepthwiseConv2  (None, 14, 14, 240)  2160       ['block4a_dwconv_pad[0][0]']     \n",
            " D)                                                                                               \n",
            "                                                                                                  \n",
            " block4a_bn (BatchNormalization  (None, 14, 14, 240)  960        ['block4a_dwconv[0][0]']         \n",
            " )                                                                                                \n",
            "                                                                                                  \n",
            " block4a_activation (Activation  (None, 14, 14, 240)  0          ['block4a_bn[0][0]']             \n",
            " )                                                                                                \n",
            "                                                                                                  \n",
            " block4a_se_squeeze (GlobalAver  (None, 240)         0           ['block4a_activation[0][0]']     \n",
            " agePooling2D)                                                                                    \n",
            "                                                                                                  \n",
            " block4a_se_reshape (Reshape)   (None, 1, 1, 240)    0           ['block4a_se_squeeze[0][0]']     \n",
            "                                                                                                  \n",
            " block4a_se_reduce (Conv2D)     (None, 1, 1, 10)     2410        ['block4a_se_reshape[0][0]']     \n",
            "                                                                                                  \n",
            " block4a_se_expand (Conv2D)     (None, 1, 1, 240)    2640        ['block4a_se_reduce[0][0]']      \n",
            "                                                                                                  \n",
            " block4a_se_excite (Multiply)   (None, 14, 14, 240)  0           ['block4a_activation[0][0]',     \n",
            "                                                                  'block4a_se_expand[0][0]']      \n",
            "                                                                                                  \n",
            " block4a_project_conv (Conv2D)  (None, 14, 14, 80)   19200       ['block4a_se_excite[0][0]']      \n",
            "                                                                                                  \n",
            " block4a_project_bn (BatchNorma  (None, 14, 14, 80)  320         ['block4a_project_conv[0][0]']   \n",
            " lization)                                                                                        \n",
            "                                                                                                  \n",
            " block4b_expand_conv (Conv2D)   (None, 14, 14, 480)  38400       ['block4a_project_bn[0][0]']     \n",
            "                                                                                                  \n",
            " block4b_expand_bn (BatchNormal  (None, 14, 14, 480)  1920       ['block4b_expand_conv[0][0]']    \n",
            " ization)                                                                                         \n",
            "                                                                                                  \n",
            " block4b_expand_activation (Act  (None, 14, 14, 480)  0          ['block4b_expand_bn[0][0]']      \n",
            " ivation)                                                                                         \n",
            "                                                                                                  \n",
            " block4b_dwconv (DepthwiseConv2  (None, 14, 14, 480)  4320       ['block4b_expand_activation[0][0]\n",
            " D)                                                              ']                               \n",
            "                                                                                                  \n",
            " block4b_bn (BatchNormalization  (None, 14, 14, 480)  1920       ['block4b_dwconv[0][0]']         \n",
            " )                                                                                                \n",
            "                                                                                                  \n",
            " block4b_activation (Activation  (None, 14, 14, 480)  0          ['block4b_bn[0][0]']             \n",
            " )                                                                                                \n",
            "                                                                                                  \n",
            " block4b_se_squeeze (GlobalAver  (None, 480)         0           ['block4b_activation[0][0]']     \n",
            " agePooling2D)                                                                                    \n",
            "                                                                                                  \n",
            " block4b_se_reshape (Reshape)   (None, 1, 1, 480)    0           ['block4b_se_squeeze[0][0]']     \n",
            "                                                                                                  \n",
            " block4b_se_reduce (Conv2D)     (None, 1, 1, 20)     9620        ['block4b_se_reshape[0][0]']     \n",
            "                                                                                                  \n",
            " block4b_se_expand (Conv2D)     (None, 1, 1, 480)    10080       ['block4b_se_reduce[0][0]']      \n",
            "                                                                                                  \n",
            " block4b_se_excite (Multiply)   (None, 14, 14, 480)  0           ['block4b_activation[0][0]',     \n",
            "                                                                  'block4b_se_expand[0][0]']      \n",
            "                                                                                                  \n",
            " block4b_project_conv (Conv2D)  (None, 14, 14, 80)   38400       ['block4b_se_excite[0][0]']      \n",
            "                                                                                                  \n",
            " block4b_project_bn (BatchNorma  (None, 14, 14, 80)  320         ['block4b_project_conv[0][0]']   \n",
            " lization)                                                                                        \n",
            "                                                                                                  \n",
            " block4b_drop (Dropout)         (None, 14, 14, 80)   0           ['block4b_project_bn[0][0]']     \n",
            "                                                                                                  \n",
            " block4b_add (Add)              (None, 14, 14, 80)   0           ['block4b_drop[0][0]',           \n",
            "                                                                  'block4a_project_bn[0][0]']     \n",
            "                                                                                                  \n",
            " block4c_expand_conv (Conv2D)   (None, 14, 14, 480)  38400       ['block4b_add[0][0]']            \n",
            "                                                                                                  \n",
            " block4c_expand_bn (BatchNormal  (None, 14, 14, 480)  1920       ['block4c_expand_conv[0][0]']    \n",
            " ization)                                                                                         \n",
            "                                                                                                  \n",
            " block4c_expand_activation (Act  (None, 14, 14, 480)  0          ['block4c_expand_bn[0][0]']      \n",
            " ivation)                                                                                         \n",
            "                                                                                                  \n",
            " block4c_dwconv (DepthwiseConv2  (None, 14, 14, 480)  4320       ['block4c_expand_activation[0][0]\n",
            " D)                                                              ']                               \n",
            "                                                                                                  \n",
            " block4c_bn (BatchNormalization  (None, 14, 14, 480)  1920       ['block4c_dwconv[0][0]']         \n",
            " )                                                                                                \n",
            "                                                                                                  \n",
            " block4c_activation (Activation  (None, 14, 14, 480)  0          ['block4c_bn[0][0]']             \n",
            " )                                                                                                \n",
            "                                                                                                  \n",
            " block4c_se_squeeze (GlobalAver  (None, 480)         0           ['block4c_activation[0][0]']     \n",
            " agePooling2D)                                                                                    \n",
            "                                                                                                  \n",
            " block4c_se_reshape (Reshape)   (None, 1, 1, 480)    0           ['block4c_se_squeeze[0][0]']     \n",
            "                                                                                                  \n",
            " block4c_se_reduce (Conv2D)     (None, 1, 1, 20)     9620        ['block4c_se_reshape[0][0]']     \n",
            "                                                                                                  \n",
            " block4c_se_expand (Conv2D)     (None, 1, 1, 480)    10080       ['block4c_se_reduce[0][0]']      \n",
            "                                                                                                  \n",
            " block4c_se_excite (Multiply)   (None, 14, 14, 480)  0           ['block4c_activation[0][0]',     \n",
            "                                                                  'block4c_se_expand[0][0]']      \n",
            "                                                                                                  \n",
            " block4c_project_conv (Conv2D)  (None, 14, 14, 80)   38400       ['block4c_se_excite[0][0]']      \n",
            "                                                                                                  \n",
            " block4c_project_bn (BatchNorma  (None, 14, 14, 80)  320         ['block4c_project_conv[0][0]']   \n",
            " lization)                                                                                        \n",
            "                                                                                                  \n",
            " block4c_drop (Dropout)         (None, 14, 14, 80)   0           ['block4c_project_bn[0][0]']     \n",
            "                                                                                                  \n",
            " block4c_add (Add)              (None, 14, 14, 80)   0           ['block4c_drop[0][0]',           \n",
            "                                                                  'block4b_add[0][0]']            \n",
            "                                                                                                  \n",
            " block5a_expand_conv (Conv2D)   (None, 14, 14, 480)  38400       ['block4c_add[0][0]']            \n",
            "                                                                                                  \n",
            " block5a_expand_bn (BatchNormal  (None, 14, 14, 480)  1920       ['block5a_expand_conv[0][0]']    \n",
            " ization)                                                                                         \n",
            "                                                                                                  \n",
            " block5a_expand_activation (Act  (None, 14, 14, 480)  0          ['block5a_expand_bn[0][0]']      \n",
            " ivation)                                                                                         \n",
            "                                                                                                  \n",
            " block5a_dwconv (DepthwiseConv2  (None, 14, 14, 480)  12000      ['block5a_expand_activation[0][0]\n",
            " D)                                                              ']                               \n",
            "                                                                                                  \n",
            " block5a_bn (BatchNormalization  (None, 14, 14, 480)  1920       ['block5a_dwconv[0][0]']         \n",
            " )                                                                                                \n",
            "                                                                                                  \n",
            " block5a_activation (Activation  (None, 14, 14, 480)  0          ['block5a_bn[0][0]']             \n",
            " )                                                                                                \n",
            "                                                                                                  \n",
            " block5a_se_squeeze (GlobalAver  (None, 480)         0           ['block5a_activation[0][0]']     \n",
            " agePooling2D)                                                                                    \n",
            "                                                                                                  \n",
            " block5a_se_reshape (Reshape)   (None, 1, 1, 480)    0           ['block5a_se_squeeze[0][0]']     \n",
            "                                                                                                  \n",
            " block5a_se_reduce (Conv2D)     (None, 1, 1, 20)     9620        ['block5a_se_reshape[0][0]']     \n",
            "                                                                                                  \n",
            " block5a_se_expand (Conv2D)     (None, 1, 1, 480)    10080       ['block5a_se_reduce[0][0]']      \n",
            "                                                                                                  \n",
            " block5a_se_excite (Multiply)   (None, 14, 14, 480)  0           ['block5a_activation[0][0]',     \n",
            "                                                                  'block5a_se_expand[0][0]']      \n",
            "                                                                                                  \n",
            " block5a_project_conv (Conv2D)  (None, 14, 14, 112)  53760       ['block5a_se_excite[0][0]']      \n",
            "                                                                                                  \n",
            " block5a_project_bn (BatchNorma  (None, 14, 14, 112)  448        ['block5a_project_conv[0][0]']   \n",
            " lization)                                                                                        \n",
            "                                                                                                  \n",
            " block5b_expand_conv (Conv2D)   (None, 14, 14, 672)  75264       ['block5a_project_bn[0][0]']     \n",
            "                                                                                                  \n",
            " block5b_expand_bn (BatchNormal  (None, 14, 14, 672)  2688       ['block5b_expand_conv[0][0]']    \n",
            " ization)                                                                                         \n",
            "                                                                                                  \n",
            " block5b_expand_activation (Act  (None, 14, 14, 672)  0          ['block5b_expand_bn[0][0]']      \n",
            " ivation)                                                                                         \n",
            "                                                                                                  \n",
            " block5b_dwconv (DepthwiseConv2  (None, 14, 14, 672)  16800      ['block5b_expand_activation[0][0]\n",
            " D)                                                              ']                               \n",
            "                                                                                                  \n",
            " block5b_bn (BatchNormalization  (None, 14, 14, 672)  2688       ['block5b_dwconv[0][0]']         \n",
            " )                                                                                                \n",
            "                                                                                                  \n",
            " block5b_activation (Activation  (None, 14, 14, 672)  0          ['block5b_bn[0][0]']             \n",
            " )                                                                                                \n",
            "                                                                                                  \n",
            " block5b_se_squeeze (GlobalAver  (None, 672)         0           ['block5b_activation[0][0]']     \n",
            " agePooling2D)                                                                                    \n",
            "                                                                                                  \n",
            " block5b_se_reshape (Reshape)   (None, 1, 1, 672)    0           ['block5b_se_squeeze[0][0]']     \n",
            "                                                                                                  \n",
            " block5b_se_reduce (Conv2D)     (None, 1, 1, 28)     18844       ['block5b_se_reshape[0][0]']     \n",
            "                                                                                                  \n",
            " block5b_se_expand (Conv2D)     (None, 1, 1, 672)    19488       ['block5b_se_reduce[0][0]']      \n",
            "                                                                                                  \n",
            " block5b_se_excite (Multiply)   (None, 14, 14, 672)  0           ['block5b_activation[0][0]',     \n",
            "                                                                  'block5b_se_expand[0][0]']      \n",
            "                                                                                                  \n",
            " block5b_project_conv (Conv2D)  (None, 14, 14, 112)  75264       ['block5b_se_excite[0][0]']      \n",
            "                                                                                                  \n",
            " block5b_project_bn (BatchNorma  (None, 14, 14, 112)  448        ['block5b_project_conv[0][0]']   \n",
            " lization)                                                                                        \n",
            "                                                                                                  \n",
            " block5b_drop (Dropout)         (None, 14, 14, 112)  0           ['block5b_project_bn[0][0]']     \n",
            "                                                                                                  \n",
            " block5b_add (Add)              (None, 14, 14, 112)  0           ['block5b_drop[0][0]',           \n",
            "                                                                  'block5a_project_bn[0][0]']     \n",
            "                                                                                                  \n",
            " block5c_expand_conv (Conv2D)   (None, 14, 14, 672)  75264       ['block5b_add[0][0]']            \n",
            "                                                                                                  \n",
            " block5c_expand_bn (BatchNormal  (None, 14, 14, 672)  2688       ['block5c_expand_conv[0][0]']    \n",
            " ization)                                                                                         \n",
            "                                                                                                  \n",
            " block5c_expand_activation (Act  (None, 14, 14, 672)  0          ['block5c_expand_bn[0][0]']      \n",
            " ivation)                                                                                         \n",
            "                                                                                                  \n",
            " block5c_dwconv (DepthwiseConv2  (None, 14, 14, 672)  16800      ['block5c_expand_activation[0][0]\n",
            " D)                                                              ']                               \n",
            "                                                                                                  \n",
            " block5c_bn (BatchNormalization  (None, 14, 14, 672)  2688       ['block5c_dwconv[0][0]']         \n",
            " )                                                                                                \n",
            "                                                                                                  \n",
            " block5c_activation (Activation  (None, 14, 14, 672)  0          ['block5c_bn[0][0]']             \n",
            " )                                                                                                \n",
            "                                                                                                  \n",
            " block5c_se_squeeze (GlobalAver  (None, 672)         0           ['block5c_activation[0][0]']     \n",
            " agePooling2D)                                                                                    \n",
            "                                                                                                  \n",
            " block5c_se_reshape (Reshape)   (None, 1, 1, 672)    0           ['block5c_se_squeeze[0][0]']     \n",
            "                                                                                                  \n",
            " block5c_se_reduce (Conv2D)     (None, 1, 1, 28)     18844       ['block5c_se_reshape[0][0]']     \n",
            "                                                                                                  \n",
            " block5c_se_expand (Conv2D)     (None, 1, 1, 672)    19488       ['block5c_se_reduce[0][0]']      \n",
            "                                                                                                  \n",
            " block5c_se_excite (Multiply)   (None, 14, 14, 672)  0           ['block5c_activation[0][0]',     \n",
            "                                                                  'block5c_se_expand[0][0]']      \n",
            "                                                                                                  \n",
            " block5c_project_conv (Conv2D)  (None, 14, 14, 112)  75264       ['block5c_se_excite[0][0]']      \n",
            "                                                                                                  \n",
            " block5c_project_bn (BatchNorma  (None, 14, 14, 112)  448        ['block5c_project_conv[0][0]']   \n",
            " lization)                                                                                        \n",
            "                                                                                                  \n",
            " block5c_drop (Dropout)         (None, 14, 14, 112)  0           ['block5c_project_bn[0][0]']     \n",
            "                                                                                                  \n",
            " block5c_add (Add)              (None, 14, 14, 112)  0           ['block5c_drop[0][0]',           \n",
            "                                                                  'block5b_add[0][0]']            \n",
            "                                                                                                  \n",
            " block6a_expand_conv (Conv2D)   (None, 14, 14, 672)  75264       ['block5c_add[0][0]']            \n",
            "                                                                                                  \n",
            " block6a_expand_bn (BatchNormal  (None, 14, 14, 672)  2688       ['block6a_expand_conv[0][0]']    \n",
            " ization)                                                                                         \n",
            "                                                                                                  \n",
            " block6a_expand_activation (Act  (None, 14, 14, 672)  0          ['block6a_expand_bn[0][0]']      \n",
            " ivation)                                                                                         \n",
            "                                                                                                  \n",
            " block6a_dwconv_pad (ZeroPaddin  (None, 17, 17, 672)  0          ['block6a_expand_activation[0][0]\n",
            " g2D)                                                            ']                               \n",
            "                                                                                                  \n",
            " block6a_dwconv (DepthwiseConv2  (None, 7, 7, 672)   16800       ['block6a_dwconv_pad[0][0]']     \n",
            " D)                                                                                               \n",
            "                                                                                                  \n",
            " block6a_bn (BatchNormalization  (None, 7, 7, 672)   2688        ['block6a_dwconv[0][0]']         \n",
            " )                                                                                                \n",
            "                                                                                                  \n",
            " block6a_activation (Activation  (None, 7, 7, 672)   0           ['block6a_bn[0][0]']             \n",
            " )                                                                                                \n",
            "                                                                                                  \n",
            " block6a_se_squeeze (GlobalAver  (None, 672)         0           ['block6a_activation[0][0]']     \n",
            " agePooling2D)                                                                                    \n",
            "                                                                                                  \n",
            " block6a_se_reshape (Reshape)   (None, 1, 1, 672)    0           ['block6a_se_squeeze[0][0]']     \n",
            "                                                                                                  \n",
            " block6a_se_reduce (Conv2D)     (None, 1, 1, 28)     18844       ['block6a_se_reshape[0][0]']     \n",
            "                                                                                                  \n",
            " block6a_se_expand (Conv2D)     (None, 1, 1, 672)    19488       ['block6a_se_reduce[0][0]']      \n",
            "                                                                                                  \n",
            " block6a_se_excite (Multiply)   (None, 7, 7, 672)    0           ['block6a_activation[0][0]',     \n",
            "                                                                  'block6a_se_expand[0][0]']      \n",
            "                                                                                                  \n",
            " block6a_project_conv (Conv2D)  (None, 7, 7, 192)    129024      ['block6a_se_excite[0][0]']      \n",
            "                                                                                                  \n",
            " block6a_project_bn (BatchNorma  (None, 7, 7, 192)   768         ['block6a_project_conv[0][0]']   \n",
            " lization)                                                                                        \n",
            "                                                                                                  \n",
            " block6b_expand_conv (Conv2D)   (None, 7, 7, 1152)   221184      ['block6a_project_bn[0][0]']     \n",
            "                                                                                                  \n",
            " block6b_expand_bn (BatchNormal  (None, 7, 7, 1152)  4608        ['block6b_expand_conv[0][0]']    \n",
            " ization)                                                                                         \n",
            "                                                                                                  \n",
            " block6b_expand_activation (Act  (None, 7, 7, 1152)  0           ['block6b_expand_bn[0][0]']      \n",
            " ivation)                                                                                         \n",
            "                                                                                                  \n",
            " block6b_dwconv (DepthwiseConv2  (None, 7, 7, 1152)  28800       ['block6b_expand_activation[0][0]\n",
            " D)                                                              ']                               \n",
            "                                                                                                  \n",
            " block6b_bn (BatchNormalization  (None, 7, 7, 1152)  4608        ['block6b_dwconv[0][0]']         \n",
            " )                                                                                                \n",
            "                                                                                                  \n",
            " block6b_activation (Activation  (None, 7, 7, 1152)  0           ['block6b_bn[0][0]']             \n",
            " )                                                                                                \n",
            "                                                                                                  \n",
            " block6b_se_squeeze (GlobalAver  (None, 1152)        0           ['block6b_activation[0][0]']     \n",
            " agePooling2D)                                                                                    \n",
            "                                                                                                  \n",
            " block6b_se_reshape (Reshape)   (None, 1, 1, 1152)   0           ['block6b_se_squeeze[0][0]']     \n",
            "                                                                                                  \n",
            " block6b_se_reduce (Conv2D)     (None, 1, 1, 48)     55344       ['block6b_se_reshape[0][0]']     \n",
            "                                                                                                  \n",
            " block6b_se_expand (Conv2D)     (None, 1, 1, 1152)   56448       ['block6b_se_reduce[0][0]']      \n",
            "                                                                                                  \n",
            " block6b_se_excite (Multiply)   (None, 7, 7, 1152)   0           ['block6b_activation[0][0]',     \n",
            "                                                                  'block6b_se_expand[0][0]']      \n",
            "                                                                                                  \n",
            " block6b_project_conv (Conv2D)  (None, 7, 7, 192)    221184      ['block6b_se_excite[0][0]']      \n",
            "                                                                                                  \n",
            " block6b_project_bn (BatchNorma  (None, 7, 7, 192)   768         ['block6b_project_conv[0][0]']   \n",
            " lization)                                                                                        \n",
            "                                                                                                  \n",
            " block6b_drop (Dropout)         (None, 7, 7, 192)    0           ['block6b_project_bn[0][0]']     \n",
            "                                                                                                  \n",
            " block6b_add (Add)              (None, 7, 7, 192)    0           ['block6b_drop[0][0]',           \n",
            "                                                                  'block6a_project_bn[0][0]']     \n",
            "                                                                                                  \n",
            " block6c_expand_conv (Conv2D)   (None, 7, 7, 1152)   221184      ['block6b_add[0][0]']            \n",
            "                                                                                                  \n",
            " block6c_expand_bn (BatchNormal  (None, 7, 7, 1152)  4608        ['block6c_expand_conv[0][0]']    \n",
            " ization)                                                                                         \n",
            "                                                                                                  \n",
            " block6c_expand_activation (Act  (None, 7, 7, 1152)  0           ['block6c_expand_bn[0][0]']      \n",
            " ivation)                                                                                         \n",
            "                                                                                                  \n",
            " block6c_dwconv (DepthwiseConv2  (None, 7, 7, 1152)  28800       ['block6c_expand_activation[0][0]\n",
            " D)                                                              ']                               \n",
            "                                                                                                  \n",
            " block6c_bn (BatchNormalization  (None, 7, 7, 1152)  4608        ['block6c_dwconv[0][0]']         \n",
            " )                                                                                                \n",
            "                                                                                                  \n",
            " block6c_activation (Activation  (None, 7, 7, 1152)  0           ['block6c_bn[0][0]']             \n",
            " )                                                                                                \n",
            "                                                                                                  \n",
            " block6c_se_squeeze (GlobalAver  (None, 1152)        0           ['block6c_activation[0][0]']     \n",
            " agePooling2D)                                                                                    \n",
            "                                                                                                  \n",
            " block6c_se_reshape (Reshape)   (None, 1, 1, 1152)   0           ['block6c_se_squeeze[0][0]']     \n",
            "                                                                                                  \n",
            " block6c_se_reduce (Conv2D)     (None, 1, 1, 48)     55344       ['block6c_se_reshape[0][0]']     \n",
            "                                                                                                  \n",
            " block6c_se_expand (Conv2D)     (None, 1, 1, 1152)   56448       ['block6c_se_reduce[0][0]']      \n",
            "                                                                                                  \n",
            " block6c_se_excite (Multiply)   (None, 7, 7, 1152)   0           ['block6c_activation[0][0]',     \n",
            "                                                                  'block6c_se_expand[0][0]']      \n",
            "                                                                                                  \n",
            " block6c_project_conv (Conv2D)  (None, 7, 7, 192)    221184      ['block6c_se_excite[0][0]']      \n",
            "                                                                                                  \n",
            " block6c_project_bn (BatchNorma  (None, 7, 7, 192)   768         ['block6c_project_conv[0][0]']   \n",
            " lization)                                                                                        \n",
            "                                                                                                  \n",
            " block6c_drop (Dropout)         (None, 7, 7, 192)    0           ['block6c_project_bn[0][0]']     \n",
            "                                                                                                  \n",
            " block6c_add (Add)              (None, 7, 7, 192)    0           ['block6c_drop[0][0]',           \n",
            "                                                                  'block6b_add[0][0]']            \n",
            "                                                                                                  \n",
            " block6d_expand_conv (Conv2D)   (None, 7, 7, 1152)   221184      ['block6c_add[0][0]']            \n",
            "                                                                                                  \n",
            " block6d_expand_bn (BatchNormal  (None, 7, 7, 1152)  4608        ['block6d_expand_conv[0][0]']    \n",
            " ization)                                                                                         \n",
            "                                                                                                  \n",
            " block6d_expand_activation (Act  (None, 7, 7, 1152)  0           ['block6d_expand_bn[0][0]']      \n",
            " ivation)                                                                                         \n",
            "                                                                                                  \n",
            " block6d_dwconv (DepthwiseConv2  (None, 7, 7, 1152)  28800       ['block6d_expand_activation[0][0]\n",
            " D)                                                              ']                               \n",
            "                                                                                                  \n",
            " block6d_bn (BatchNormalization  (None, 7, 7, 1152)  4608        ['block6d_dwconv[0][0]']         \n",
            " )                                                                                                \n",
            "                                                                                                  \n",
            " block6d_activation (Activation  (None, 7, 7, 1152)  0           ['block6d_bn[0][0]']             \n",
            " )                                                                                                \n",
            "                                                                                                  \n",
            " block6d_se_squeeze (GlobalAver  (None, 1152)        0           ['block6d_activation[0][0]']     \n",
            " agePooling2D)                                                                                    \n",
            "                                                                                                  \n",
            " block6d_se_reshape (Reshape)   (None, 1, 1, 1152)   0           ['block6d_se_squeeze[0][0]']     \n",
            "                                                                                                  \n",
            " block6d_se_reduce (Conv2D)     (None, 1, 1, 48)     55344       ['block6d_se_reshape[0][0]']     \n",
            "                                                                                                  \n",
            " block6d_se_expand (Conv2D)     (None, 1, 1, 1152)   56448       ['block6d_se_reduce[0][0]']      \n",
            "                                                                                                  \n",
            " block6d_se_excite (Multiply)   (None, 7, 7, 1152)   0           ['block6d_activation[0][0]',     \n",
            "                                                                  'block6d_se_expand[0][0]']      \n",
            "                                                                                                  \n",
            " block6d_project_conv (Conv2D)  (None, 7, 7, 192)    221184      ['block6d_se_excite[0][0]']      \n",
            "                                                                                                  \n",
            " block6d_project_bn (BatchNorma  (None, 7, 7, 192)   768         ['block6d_project_conv[0][0]']   \n",
            " lization)                                                                                        \n",
            "                                                                                                  \n",
            " block6d_drop (Dropout)         (None, 7, 7, 192)    0           ['block6d_project_bn[0][0]']     \n",
            "                                                                                                  \n",
            " block6d_add (Add)              (None, 7, 7, 192)    0           ['block6d_drop[0][0]',           \n",
            "                                                                  'block6c_add[0][0]']            \n",
            "                                                                                                  \n",
            " block7a_expand_conv (Conv2D)   (None, 7, 7, 1152)   221184      ['block6d_add[0][0]']            \n",
            "                                                                                                  \n",
            " block7a_expand_bn (BatchNormal  (None, 7, 7, 1152)  4608        ['block7a_expand_conv[0][0]']    \n",
            " ization)                                                                                         \n",
            "                                                                                                  \n",
            " block7a_expand_activation (Act  (None, 7, 7, 1152)  0           ['block7a_expand_bn[0][0]']      \n",
            " ivation)                                                                                         \n",
            "                                                                                                  \n",
            " block7a_dwconv (DepthwiseConv2  (None, 7, 7, 1152)  10368       ['block7a_expand_activation[0][0]\n",
            " D)                                                              ']                               \n",
            "                                                                                                  \n",
            " block7a_bn (BatchNormalization  (None, 7, 7, 1152)  4608        ['block7a_dwconv[0][0]']         \n",
            " )                                                                                                \n",
            "                                                                                                  \n",
            " block7a_activation (Activation  (None, 7, 7, 1152)  0           ['block7a_bn[0][0]']             \n",
            " )                                                                                                \n",
            "                                                                                                  \n",
            " block7a_se_squeeze (GlobalAver  (None, 1152)        0           ['block7a_activation[0][0]']     \n",
            " agePooling2D)                                                                                    \n",
            "                                                                                                  \n",
            " block7a_se_reshape (Reshape)   (None, 1, 1, 1152)   0           ['block7a_se_squeeze[0][0]']     \n",
            "                                                                                                  \n",
            " block7a_se_reduce (Conv2D)     (None, 1, 1, 48)     55344       ['block7a_se_reshape[0][0]']     \n",
            "                                                                                                  \n",
            " block7a_se_expand (Conv2D)     (None, 1, 1, 1152)   56448       ['block7a_se_reduce[0][0]']      \n",
            "                                                                                                  \n",
            " block7a_se_excite (Multiply)   (None, 7, 7, 1152)   0           ['block7a_activation[0][0]',     \n",
            "                                                                  'block7a_se_expand[0][0]']      \n",
            "                                                                                                  \n",
            " block7a_project_conv (Conv2D)  (None, 7, 7, 320)    368640      ['block7a_se_excite[0][0]']      \n",
            "                                                                                                  \n",
            " block7a_project_bn (BatchNorma  (None, 7, 7, 320)   1280        ['block7a_project_conv[0][0]']   \n",
            " lization)                                                                                        \n",
            "                                                                                                  \n",
            " top_conv (Conv2D)              (None, 7, 7, 1280)   409600      ['block7a_project_bn[0][0]']     \n",
            "                                                                                                  \n",
            " top_bn (BatchNormalization)    (None, 7, 7, 1280)   5120        ['top_conv[0][0]']               \n",
            "                                                                                                  \n",
            " top_activation (Activation)    (None, 7, 7, 1280)   0           ['top_bn[0][0]']                 \n",
            "                                                                                                  \n",
            " avg_pool (GlobalAveragePooling  (None, 1280)        0           ['top_activation[0][0]']         \n",
            " 2D)                                                                                              \n",
            "                                                                                                  \n",
            " top_dropout (Dropout)          (None, 1280)         0           ['avg_pool[0][0]']               \n",
            "                                                                                                  \n",
            " predictions (Dense)            (None, 1000)         1281000     ['top_dropout[0][0]']            \n",
            "                                                                                                  \n",
            "==================================================================================================\n",
            "Total params: 5,330,571\n",
            "Trainable params: 5,288,548\n",
            "Non-trainable params: 42,023\n",
            "__________________________________________________________________________________________________\n"
          ]
        }
      ],
      "source": [
        "model.summary();"
      ]
    },
    {
      "cell_type": "code",
      "execution_count": null,
      "metadata": {
        "id": "Hq4Ij7c4IMKI"
      },
      "outputs": [],
      "source": [
        "model.compile(\n",
        "    optimizer='adam',\n",
        "    loss=tf.keras.losses.SparseCategoricalCrossentropy(from_logits=False),\n",
        "    metrics=['accuracy']\n",
        "              )"
      ]
    },
    {
      "cell_type": "code",
      "execution_count": null,
      "metadata": {
        "colab": {
          "base_uri": "https://localhost:8080/"
        },
        "outputId": "8e0b6b82-a93e-46da-ed14-1a7e7a5cd952",
        "id": "v8WkXyw1IXCH"
      },
      "outputs": [
        {
          "output_type": "stream",
          "name": "stdout",
          "text": [
            "Epoch 1/50\n",
            "53/53 [==============================] - 14s 90ms/step - loss: 1.4796 - accuracy: 0.7057 - val_loss: 0.2772 - val_accuracy: 0.9000\n",
            "Epoch 2/50\n",
            "53/53 [==============================] - 4s 67ms/step - loss: 0.2948 - accuracy: 0.8981 - val_loss: 0.1893 - val_accuracy: 0.9667\n",
            "Epoch 3/50\n",
            "53/53 [==============================] - 4s 67ms/step - loss: 0.2711 - accuracy: 0.9057 - val_loss: 0.3791 - val_accuracy: 0.8667\n",
            "Epoch 4/50\n",
            "53/53 [==============================] - 4s 68ms/step - loss: 0.1280 - accuracy: 0.9434 - val_loss: 0.1765 - val_accuracy: 0.9333\n",
            "Epoch 5/50\n",
            "53/53 [==============================] - 4s 70ms/step - loss: 0.1333 - accuracy: 0.9472 - val_loss: 0.2536 - val_accuracy: 0.9333\n",
            "Epoch 6/50\n",
            "53/53 [==============================] - 4s 68ms/step - loss: 0.2661 - accuracy: 0.9057 - val_loss: 0.4000 - val_accuracy: 0.9000\n",
            "Epoch 7/50\n",
            "53/53 [==============================] - 4s 69ms/step - loss: 0.1635 - accuracy: 0.9396 - val_loss: 0.5863 - val_accuracy: 0.9000\n",
            "Epoch 8/50\n",
            "53/53 [==============================] - 4s 67ms/step - loss: 0.0868 - accuracy: 0.9623 - val_loss: 0.1169 - val_accuracy: 0.9667\n",
            "Epoch 9/50\n",
            "53/53 [==============================] - 4s 68ms/step - loss: 0.0626 - accuracy: 0.9736 - val_loss: 0.1067 - val_accuracy: 0.9333\n",
            "Epoch 10/50\n",
            "53/53 [==============================] - 4s 69ms/step - loss: 0.0886 - accuracy: 0.9623 - val_loss: 0.3540 - val_accuracy: 0.9667\n",
            "Epoch 11/50\n",
            "53/53 [==============================] - 4s 68ms/step - loss: 0.0676 - accuracy: 0.9736 - val_loss: 0.2964 - val_accuracy: 0.9000\n",
            "Epoch 12/50\n",
            "53/53 [==============================] - 4s 79ms/step - loss: 0.0160 - accuracy: 1.0000 - val_loss: 0.1532 - val_accuracy: 0.9333\n",
            "Epoch 13/50\n",
            "53/53 [==============================] - 4s 67ms/step - loss: 0.0282 - accuracy: 0.9887 - val_loss: 0.0301 - val_accuracy: 1.0000\n",
            "Epoch 14/50\n",
            "53/53 [==============================] - 3s 66ms/step - loss: 0.0054 - accuracy: 1.0000 - val_loss: 0.0096 - val_accuracy: 1.0000\n",
            "Epoch 15/50\n",
            "53/53 [==============================] - 4s 67ms/step - loss: 0.0017 - accuracy: 1.0000 - val_loss: 0.0080 - val_accuracy: 1.0000\n",
            "Epoch 16/50\n",
            "53/53 [==============================] - 3s 66ms/step - loss: 0.0013 - accuracy: 1.0000 - val_loss: 0.0075 - val_accuracy: 1.0000\n",
            "Epoch 17/50\n",
            "53/53 [==============================] - 4s 66ms/step - loss: 6.9401e-04 - accuracy: 1.0000 - val_loss: 0.0089 - val_accuracy: 1.0000\n",
            "Epoch 18/50\n",
            "53/53 [==============================] - 4s 66ms/step - loss: 5.3835e-04 - accuracy: 1.0000 - val_loss: 0.0101 - val_accuracy: 1.0000\n",
            "Epoch 19/50\n",
            "53/53 [==============================] - 4s 66ms/step - loss: 7.8580e-04 - accuracy: 1.0000 - val_loss: 0.0071 - val_accuracy: 1.0000\n",
            "Epoch 20/50\n",
            "53/53 [==============================] - 4s 66ms/step - loss: 5.9389e-04 - accuracy: 1.0000 - val_loss: 0.0066 - val_accuracy: 1.0000\n",
            "Epoch 21/50\n",
            "53/53 [==============================] - 4s 66ms/step - loss: 2.4345e-04 - accuracy: 1.0000 - val_loss: 0.0067 - val_accuracy: 1.0000\n",
            "Epoch 22/50\n",
            "53/53 [==============================] - 4s 67ms/step - loss: 2.1346e-04 - accuracy: 1.0000 - val_loss: 0.0054 - val_accuracy: 1.0000\n",
            "Epoch 23/50\n",
            "53/53 [==============================] - 4s 66ms/step - loss: 2.3874e-04 - accuracy: 1.0000 - val_loss: 0.0044 - val_accuracy: 1.0000\n",
            "Epoch 24/50\n",
            "53/53 [==============================] - 3s 66ms/step - loss: 2.8084e-04 - accuracy: 1.0000 - val_loss: 0.0038 - val_accuracy: 1.0000\n",
            "Epoch 25/50\n",
            "53/53 [==============================] - 3s 66ms/step - loss: 1.5720e-04 - accuracy: 1.0000 - val_loss: 0.0040 - val_accuracy: 1.0000\n",
            "Epoch 26/50\n",
            "53/53 [==============================] - 3s 65ms/step - loss: 1.9850e-04 - accuracy: 1.0000 - val_loss: 0.0042 - val_accuracy: 1.0000\n",
            "Epoch 27/50\n",
            "53/53 [==============================] - 3s 66ms/step - loss: 2.0027e-04 - accuracy: 1.0000 - val_loss: 0.0047 - val_accuracy: 1.0000\n",
            "Epoch 28/50\n",
            "53/53 [==============================] - 4s 66ms/step - loss: 1.6784e-04 - accuracy: 1.0000 - val_loss: 0.0042 - val_accuracy: 1.0000\n",
            "Epoch 29/50\n",
            "53/53 [==============================] - 3s 66ms/step - loss: 2.5160e-04 - accuracy: 1.0000 - val_loss: 0.0039 - val_accuracy: 1.0000\n",
            "Epoch 30/50\n",
            "53/53 [==============================] - 4s 67ms/step - loss: 1.3001e-04 - accuracy: 1.0000 - val_loss: 0.0039 - val_accuracy: 1.0000\n",
            "Epoch 31/50\n",
            "53/53 [==============================] - 4s 66ms/step - loss: 1.5867e-04 - accuracy: 1.0000 - val_loss: 0.0052 - val_accuracy: 1.0000\n",
            "Epoch 32/50\n",
            "53/53 [==============================] - 3s 66ms/step - loss: 1.4304e-04 - accuracy: 1.0000 - val_loss: 0.0050 - val_accuracy: 1.0000\n",
            "Epoch 33/50\n",
            "53/53 [==============================] - 4s 66ms/step - loss: 7.6399e-05 - accuracy: 1.0000 - val_loss: 0.0047 - val_accuracy: 1.0000\n",
            "Epoch 34/50\n",
            "53/53 [==============================] - 3s 66ms/step - loss: 7.9320e-05 - accuracy: 1.0000 - val_loss: 0.0042 - val_accuracy: 1.0000\n",
            "Epoch 35/50\n",
            "53/53 [==============================] - 4s 66ms/step - loss: 6.5563e-04 - accuracy: 1.0000 - val_loss: 0.0023 - val_accuracy: 1.0000\n",
            "Epoch 36/50\n",
            "53/53 [==============================] - 4s 66ms/step - loss: 9.6286e-05 - accuracy: 1.0000 - val_loss: 0.0021 - val_accuracy: 1.0000\n",
            "Epoch 37/50\n",
            "53/53 [==============================] - 3s 66ms/step - loss: 1.7753e-04 - accuracy: 1.0000 - val_loss: 0.0110 - val_accuracy: 1.0000\n",
            "Epoch 38/50\n",
            "53/53 [==============================] - 4s 66ms/step - loss: 7.8429e-05 - accuracy: 1.0000 - val_loss: 0.0149 - val_accuracy: 1.0000\n",
            "Epoch 39/50\n",
            "53/53 [==============================] - 3s 66ms/step - loss: 7.1173e-05 - accuracy: 1.0000 - val_loss: 0.0122 - val_accuracy: 1.0000\n",
            "Epoch 40/50\n",
            "53/53 [==============================] - 4s 66ms/step - loss: 8.0157e-05 - accuracy: 1.0000 - val_loss: 0.0096 - val_accuracy: 1.0000\n",
            "Epoch 41/50\n",
            "53/53 [==============================] - 3s 66ms/step - loss: 6.6129e-05 - accuracy: 1.0000 - val_loss: 0.0088 - val_accuracy: 1.0000\n",
            "Epoch 42/50\n",
            "53/53 [==============================] - 3s 66ms/step - loss: 8.2765e-05 - accuracy: 1.0000 - val_loss: 0.0082 - val_accuracy: 1.0000\n",
            "Epoch 43/50\n",
            "53/53 [==============================] - 4s 66ms/step - loss: 8.4022e-05 - accuracy: 1.0000 - val_loss: 0.0059 - val_accuracy: 1.0000\n",
            "Epoch 44/50\n",
            "53/53 [==============================] - 4s 66ms/step - loss: 7.8509e-05 - accuracy: 1.0000 - val_loss: 0.0091 - val_accuracy: 1.0000\n",
            "Epoch 45/50\n",
            "53/53 [==============================] - 4s 67ms/step - loss: 5.0720e-05 - accuracy: 1.0000 - val_loss: 0.0081 - val_accuracy: 1.0000\n",
            "Epoch 46/50\n",
            "53/53 [==============================] - 4s 67ms/step - loss: 4.1330e-05 - accuracy: 1.0000 - val_loss: 0.0069 - val_accuracy: 1.0000\n",
            "Epoch 47/50\n",
            "53/53 [==============================] - 4s 66ms/step - loss: 4.1640e-05 - accuracy: 1.0000 - val_loss: 0.0061 - val_accuracy: 1.0000\n",
            "Epoch 48/50\n",
            "53/53 [==============================] - 4s 66ms/step - loss: 4.3366e-04 - accuracy: 1.0000 - val_loss: 0.0128 - val_accuracy: 1.0000\n",
            "Epoch 49/50\n",
            "53/53 [==============================] - 3s 66ms/step - loss: 2.2040e-04 - accuracy: 1.0000 - val_loss: 0.0124 - val_accuracy: 1.0000\n",
            "Epoch 50/50\n",
            "53/53 [==============================] - 4s 67ms/step - loss: 3.1520e-04 - accuracy: 1.0000 - val_loss: 0.0029 - val_accuracy: 1.0000\n"
          ]
        }
      ],
      "source": [
        "history=model.fit(\n",
        "    train_ds,\n",
        "    epochs=50,\n",
        "    verbose=1,\n",
        "    validation_data=val_ds\n",
        "\n",
        ")"
      ]
    },
    {
      "cell_type": "code",
      "execution_count": null,
      "metadata": {
        "colab": {
          "base_uri": "https://localhost:8080/"
        },
        "outputId": "0debb9c5-3daf-48f2-de9e-c6a2e3a2e2e0",
        "id": "k5h6Nw3OJWvn"
      },
      "outputs": [
        {
          "output_type": "stream",
          "name": "stdout",
          "text": [
            "8/8 [==============================] - 1s 15ms/step - loss: 0.0051 - accuracy: 1.0000\n"
          ]
        }
      ],
      "source": [
        "scores=model.evaluate(test_ds)"
      ]
    },
    {
      "cell_type": "code",
      "execution_count": null,
      "metadata": {
        "colab": {
          "base_uri": "https://localhost:8080/"
        },
        "outputId": "c175e0a5-3212-4042-822d-96182ef39232",
        "id": "fapb8oC7JeNL"
      },
      "outputs": [
        {
          "output_type": "execute_result",
          "data": {
            "text/plain": [
              "[0.7056604027748108,\n",
              " 0.8981131911277771,\n",
              " 0.9056603908538818,\n",
              " 0.9433962106704712,\n",
              " 0.947169840335846,\n",
              " 0.9056603908538818,\n",
              " 0.9396226406097412,\n",
              " 0.9622641801834106,\n",
              " 0.9735848903656006,\n",
              " 0.9622641801834106,\n",
              " 0.9735848903656006,\n",
              " 1.0,\n",
              " 0.9886792302131653,\n",
              " 1.0,\n",
              " 1.0,\n",
              " 1.0,\n",
              " 1.0,\n",
              " 1.0,\n",
              " 1.0,\n",
              " 1.0,\n",
              " 1.0,\n",
              " 1.0,\n",
              " 1.0,\n",
              " 1.0,\n",
              " 1.0,\n",
              " 1.0,\n",
              " 1.0,\n",
              " 1.0,\n",
              " 1.0,\n",
              " 1.0,\n",
              " 1.0,\n",
              " 1.0,\n",
              " 1.0,\n",
              " 1.0,\n",
              " 1.0,\n",
              " 1.0,\n",
              " 1.0,\n",
              " 1.0,\n",
              " 1.0,\n",
              " 1.0,\n",
              " 1.0,\n",
              " 1.0,\n",
              " 1.0,\n",
              " 1.0,\n",
              " 1.0,\n",
              " 1.0,\n",
              " 1.0,\n",
              " 1.0,\n",
              " 1.0,\n",
              " 1.0]"
            ]
          },
          "metadata": {},
          "execution_count": 42
        }
      ],
      "source": [
        "history.history['accuracy']"
      ]
    },
    {
      "cell_type": "code",
      "source": [
        "from tensorflow.python.ops.math_ops import mean\n",
        "import statistics\n",
        "from statistics import mean\n",
        "\n",
        "\n",
        "mean(history.history['accuracy'])"
      ],
      "metadata": {
        "colab": {
          "base_uri": "https://localhost:8080/"
        },
        "outputId": "528c233e-a1ed-4cb2-ebf0-5545ca24630e",
        "id": "asSFfZ0GJmMu"
      },
      "execution_count": null,
      "outputs": [
        {
          "output_type": "execute_result",
          "data": {
            "text/plain": [
              "0.9821132087707519"
            ]
          },
          "metadata": {},
          "execution_count": 43
        }
      ]
    }
  ],
  "metadata": {
    "accelerator": "GPU",
    "colab": {
      "provenance": [],
      "gpuType": "T4"
    },
    "kernelspec": {
      "display_name": "Python 3",
      "name": "python3"
    },
    "language_info": {
      "name": "python"
    }
  },
  "nbformat": 4,
  "nbformat_minor": 0
}